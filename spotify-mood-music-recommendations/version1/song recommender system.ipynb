{
 "cells": [
  {
   "cell_type": "code",
   "execution_count": 11,
   "metadata": {},
   "outputs": [
    {
     "name": "stdout",
     "output_type": "stream",
     "text": [
      "   acousticness  danceability  energy  instrumentalness  key  liveness  \\\n",
      "0        0.0102         0.833   0.434          0.021900    2    0.1650   \n",
      "1        0.1990         0.743   0.359          0.006110    1    0.1370   \n",
      "2        0.0344         0.838   0.412          0.000234    2    0.1590   \n",
      "3        0.6040         0.494   0.338          0.510000    5    0.0922   \n",
      "4        0.1800         0.678   0.561          0.512000    5    0.4390   \n",
      "\n",
      "   loudness  mode  speechiness    tempo  time_signature  valence  \\\n",
      "0    -8.795     1       0.4310  150.062               4    0.286   \n",
      "1   -10.401     1       0.0794  160.083               4    0.588   \n",
      "2    -7.148     1       0.2890   75.044               4    0.173   \n",
      "3   -15.236     1       0.0261   86.468               4    0.230   \n",
      "4   -11.648     0       0.0694  174.004               4    0.904   \n",
      "\n",
      "       song_title            artist  \n",
      "0        Mask Off            Future  \n",
      "1         Redbone  Childish Gambino  \n",
      "2    Xanny Family            Future  \n",
      "3  Master Of None       Beach House  \n",
      "4  Parallel Lines       Junior Boys  \n",
      "Index(['acousticness', 'danceability', 'energy', 'instrumentalness', 'key',\n",
      "       'liveness', 'loudness', 'mode', 'speechiness', 'tempo',\n",
      "       'time_signature', 'valence', 'song_title', 'artist'],\n",
      "      dtype='object')\n"
     ]
    }
   ],
   "source": [
    "import pandas as pd\n",
    "import numpy as np\n",
    "from sklearn.feature_extraction.text import CountVectorizer\n",
    "from sklearn.metrics.pairwise import cosine_similarity\n",
    "\n",
    "url =(\"https://raw.githubusercontent.com/FLIU253/machine-learning/master/spotify-mood-music-recommendations/version1/adjusted%20original%20data.csv?token=AGLVLQB52YJQAAE6KUEOJIC56FG2A\")\n",
    "names = [\"acousticness\", \"danceability\", \"energy\", \"instrumentalness\", \"key\", \"liveness\", \"loudness\", \"mode\", \"speechiness\", \"tempo\", \"time_signature\", \"valence\", \"song_title\", \"artist\"]\n",
    "\n",
    "dataset = pd.read_csv(url, names =names)\n",
    "\n",
    "print(dataset.head())\n",
    "print(dataset.columns)"
   ]
  },
  {
   "cell_type": "code",
   "execution_count": 12,
   "metadata": {},
   "outputs": [
    {
     "name": "stdout",
     "output_type": "stream",
     "text": [
      "       acousticness  danceability       energy  instrumentalness          key  \\\n",
      "count   2017.000000   2017.000000  2017.000000       2017.000000  2017.000000   \n",
      "mean       0.187590      0.618422     0.681577          0.133286     5.342588   \n",
      "std        0.259989      0.161029     0.210273          0.273162     3.648240   \n",
      "min        0.000003      0.122000     0.014800          0.000000     0.000000   \n",
      "25%        0.009630      0.514000     0.563000          0.000000     2.000000   \n",
      "50%        0.063300      0.631000     0.715000          0.000076     6.000000   \n",
      "75%        0.265000      0.738000     0.846000          0.054000     9.000000   \n",
      "max        0.995000      0.984000     0.998000          0.976000    11.000000   \n",
      "\n",
      "          liveness     loudness         mode  speechiness        tempo  \\\n",
      "count  2017.000000  2017.000000  2017.000000  2017.000000  2017.000000   \n",
      "mean      0.190844    -7.085624     0.612295     0.092664   121.603272   \n",
      "std       0.155453     3.761684     0.487347     0.089931    26.685604   \n",
      "min       0.018800   -33.097000     0.000000     0.023100    47.859000   \n",
      "25%       0.092300    -8.394000     0.000000     0.037500   100.189000   \n",
      "50%       0.127000    -6.248000     1.000000     0.054900   121.427000   \n",
      "75%       0.247000    -4.746000     1.000000     0.108000   137.849000   \n",
      "max       0.969000    -0.307000     1.000000     0.816000   219.331000   \n",
      "\n",
      "       time_signature      valence  \n",
      "count     2017.000000  2017.000000  \n",
      "mean         3.968270     0.496815  \n",
      "std          0.255853     0.247195  \n",
      "min          1.000000     0.034800  \n",
      "25%          4.000000     0.295000  \n",
      "50%          4.000000     0.492000  \n",
      "75%          4.000000     0.691000  \n",
      "max          5.000000     0.992000  \n"
     ]
    }
   ],
   "source": [
    "print(dataset.describe())"
   ]
  },
  {
   "cell_type": "code",
   "execution_count": 54,
   "metadata": {},
   "outputs": [
    {
     "name": "stdout",
     "output_type": "stream",
     "text": [
      "               acousticness        danceability energy instrumentalness   key  \\\n",
      "count                  2017                2017   2017             2017  2017   \n",
      "unique                 1394                 632    719             1107    12   \n",
      "top     0.11900000000000001  0.6829999999999999  0.857              0.0     1   \n",
      "freq                      8                  12     10              693   257   \n",
      "\n",
      "                   liveness loudness  mode speechiness               tempo  \\\n",
      "count                  2017     2017  2017        2017                2017   \n",
      "unique                  793     1808     2         792                1919   \n",
      "top     0.10099999999999999   -5.379     1       0.102  123.96600000000001   \n",
      "freq                     22        4  1235          11                   3   \n",
      "\n",
      "       time_signature              valence song_title artist combined_features  \n",
      "count            2017                 2017       2017   2017              2017  \n",
      "unique              4                  853       1956   1343              1760  \n",
      "top                 4  0.37200000000000005       Jack  Drake             0.851  \n",
      "freq             1891                    9          3     16                 6  \n"
     ]
    }
   ],
   "source": [
    "dataset = dataset.astype(str)\n",
    "print(dataset.describe())"
   ]
  },
  {
   "cell_type": "code",
   "execution_count": 56,
   "metadata": {},
   "outputs": [
    {
     "name": "stdout",
     "output_type": "stream",
     "text": [
      "Combined Features:  0                    0.0102 0.833 0.434 0.0219\n",
      "1      0.19899999999999998 0.743 0.359 0.00611\n",
      "2    0.0344 0.838 0.41200000000000003 0.000234\n",
      "3         0.604 0.494 0.33799999999999997 0.51\n",
      "4          0.18 0.6779999999999999 0.561 0.512\n",
      "Name: combined_features, dtype: object\n"
     ]
    }
   ],
   "source": [
    "def combined_features(row):\n",
    "    try:\n",
    "        return (row[\"acousticness\"] + \" \" + row[\"danceability\"] + \" \" + row[\"energy\"] + \" \" + row[\"instrumentalness\"])\n",
    "    except:\n",
    "        print (\"Error:\" ,row)\n",
    "\n",
    "dataset[\"combined_features\"] = dataset.apply(combined_features, axis=1)\n",
    "\n",
    "print(\"Combined Features: \", dataset[\"combined_features\"].head())"
   ]
  },
  {
   "cell_type": "code",
   "execution_count": 57,
   "metadata": {},
   "outputs": [],
   "source": [
    "#create count matric from this new combined column\n",
    "cv = CountVectorizer()\n",
    "count_matrix = cv.fit_transform(dataset[\"combined_features\"])\n",
    "cosine_sim = cosine_similarity(count_matrix)"
   ]
  },
  {
   "cell_type": "code",
   "execution_count": null,
   "metadata": {},
   "outputs": [],
   "source": []
  }
 ],
 "metadata": {
  "kernelspec": {
   "display_name": "Python 3",
   "language": "python",
   "name": "python3"
  },
  "language_info": {
   "codemirror_mode": {
    "name": "ipython",
    "version": 3
   },
   "file_extension": ".py",
   "mimetype": "text/x-python",
   "name": "python",
   "nbconvert_exporter": "python",
   "pygments_lexer": "ipython3",
   "version": "3.6.7"
  }
 },
 "nbformat": 4,
 "nbformat_minor": 2
}
