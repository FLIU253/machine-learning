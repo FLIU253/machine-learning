{
 "cells": [
  {
   "cell_type": "code",
   "execution_count": 1,
   "metadata": {},
   "outputs": [],
   "source": [
    "\n",
    "# Load libraries\n",
    "from pandas import read_csv\n",
    "from pandas.plotting import scatter_matrix\n",
    "from matplotlib import pyplot\n",
    "from sklearn.model_selection import train_test_split\n",
    "from sklearn.model_selection import cross_val_score\n",
    "from sklearn.model_selection import StratifiedKFold\n",
    "from sklearn.metrics import classification_report\n",
    "from sklearn.metrics import confusion_matrix\n",
    "from sklearn.metrics import accuracy_score\n",
    "from sklearn.linear_model import LogisticRegression\n",
    "from sklearn.tree import DecisionTreeClassifier\n",
    "from sklearn.neighbors import KNeighborsClassifier\n",
    "from sklearn.discriminant_analysis import LinearDiscriminantAnalysis\n",
    "from sklearn.naive_bayes import GaussianNB\n",
    "from sklearn.svm import SVC\n",
    "\n",
    "#load training datasets\n",
    "url = \"https://raw.githubusercontent.com/FLIU253/machine-learning/master/spotify-mood-music-recommendations/version1/cleaned%20data%20v2.csv?token=AGLVLQEGTMSRJ2D3ZTSUMXK56DZ66\"\n",
    "names = [\"acounsticness\", \"danceability\", \"energy\", \"instrumentalness\", \"key\", \"liveness\", \"loudness\", \"mode\", \"speechiness\", \"tempo\", \"time_signature\", \"valence\", \"song_title\", \"artist\", \"emotion\"]\n",
    "dataset = read_csv(url, names=names)"
   ]
  },
  {
   "cell_type": "code",
   "execution_count": 15,
   "metadata": {},
   "outputs": [
    {
     "name": "stdout",
     "output_type": "stream",
     "text": [
      "[[0.0102 0.833 0.434 ... 'Mask Off' 'Future' 'happy']\n",
      " [0.19899999999999998 0.743 0.359 ... 'Redbone' 'Childish Gambino' 'calm']\n",
      " [0.0344 0.838 0.41200000000000003 ... 'Xanny Family' 'Future' 'calm']\n",
      " ...\n",
      " [0.000239 0.32899999999999996 0.8140000000000001 ... 'The Moment'\n",
      "  'Tame Impala' 'happy']\n",
      " [0.19 0.7759999999999999 0.507 ... 'Secret Love' 'JoJo' 'calm']\n",
      " [0.198 0.89 0.52 ... 'Something About You - Extended Mix' 'Hayden James'\n",
      "  'happy']]\n"
     ]
    }
   ],
   "source": [
    "#shape\n",
    "print(dataset.values)"
   ]
  },
  {
   "cell_type": "code",
   "execution_count": 3,
   "metadata": {},
   "outputs": [
    {
     "name": "stdout",
     "output_type": "stream",
     "text": [
      "   acounsticness  danceability  energy  instrumentalness  key  liveness  \\\n",
      "0         0.0102         0.833   0.434          0.021900    2    0.1650   \n",
      "1         0.1990         0.743   0.359          0.006110    1    0.1370   \n",
      "2         0.0344         0.838   0.412          0.000234    2    0.1590   \n",
      "3         0.6040         0.494   0.338          0.510000    5    0.0922   \n",
      "4         0.1800         0.678   0.561          0.512000    5    0.4390   \n",
      "\n",
      "   loudness  mode  speechiness    tempo  time_signature  valence  \\\n",
      "0    -8.795     1       0.4310  150.062               4    0.286   \n",
      "1   -10.401     1       0.0794  160.083               4    0.588   \n",
      "2    -7.148     1       0.2890   75.044               4    0.173   \n",
      "3   -15.236     1       0.0261   86.468               4    0.230   \n",
      "4   -11.648     0       0.0694  174.004               4    0.904   \n",
      "\n",
      "       song_title            artist emotion  \n",
      "0        Mask Off            Future   happy  \n",
      "1         Redbone  Childish Gambino    calm  \n",
      "2    Xanny Family            Future    calm  \n",
      "3  Master Of None       Beach House     sad  \n",
      "4  Parallel Lines       Junior Boys     sad  \n"
     ]
    }
   ],
   "source": [
    "print(dataset.head())"
   ]
  },
  {
   "cell_type": "code",
   "execution_count": 4,
   "metadata": {},
   "outputs": [
    {
     "name": "stdout",
     "output_type": "stream",
     "text": [
      "       acounsticness  danceability      energy  instrumentalness         key  \\\n",
      "count     148.000000    148.000000  148.000000        148.000000  148.000000   \n",
      "mean        0.157763      0.647264    0.647460          0.140012    5.006757   \n",
      "std         0.222304      0.159601    0.189089          0.258040    3.793113   \n",
      "min         0.000008      0.191000    0.086100          0.000000    0.000000   \n",
      "25%         0.010200      0.548500    0.512750          0.000000    1.000000   \n",
      "50%         0.046950      0.664500    0.661500          0.000161    5.000000   \n",
      "75%         0.235500      0.763500    0.795750          0.126250    9.000000   \n",
      "max         0.918000      0.959000    0.981000          0.921000   11.000000   \n",
      "\n",
      "         liveness    loudness        mode  speechiness       tempo  \\\n",
      "count  148.000000  148.000000  148.000000   148.000000  148.000000   \n",
      "mean     0.206644   -7.566291    0.662162     0.101809  119.895581   \n",
      "std      0.159088    3.127783    0.474579     0.100059   25.601776   \n",
      "min      0.018800  -21.226000    0.000000     0.026100   64.992000   \n",
      "25%      0.097050   -8.880750    0.000000     0.038325  104.525250   \n",
      "50%      0.156000   -6.920500    1.000000     0.056300  120.067000   \n",
      "75%      0.272250   -5.521000    1.000000     0.127000  135.593500   \n",
      "max      0.769000   -1.710000    1.000000     0.455000  203.822000   \n",
      "\n",
      "       time_signature     valence  \n",
      "count      148.000000  148.000000  \n",
      "mean         3.966216    0.510784  \n",
      "std          0.245103    0.250266  \n",
      "min          3.000000    0.035900  \n",
      "25%          4.000000    0.300000  \n",
      "50%          4.000000    0.483500  \n",
      "75%          4.000000    0.723250  \n",
      "max          5.000000    0.973000  \n",
      "emotion\n",
      "anger    39\n",
      "calm     36\n",
      "happy    47\n",
      "sad      26\n",
      "dtype: int64\n"
     ]
    }
   ],
   "source": [
    "print(dataset.describe())\n",
    "print(dataset.groupby('emotion').size())"
   ]
  },
  {
   "cell_type": "code",
   "execution_count": 5,
   "metadata": {},
   "outputs": [
    {
     "data": {
      "image/png": "[encoded data removed]",
      "text/plain": [
       "<Figure size 432x288 with 1 Axes>"
      ]
     },
     "metadata": {
      "needs_background": "light"
     },
     "output_type": "display_data"
    }
   ],
   "source": [
    "#visualization\n",
    "dataset.plot()\n",
    "pyplot.show()"
   ]
  },
  {
   "cell_type": "code",
   "execution_count": 6,
   "metadata": {},
   "outputs": [
    {
     "name": "stdout",
     "output_type": "stream",
     "text": [
      "[[0.0102 0.833 0.434 ... 150.062 4 0.28600000000000003]\n",
      " [0.19899999999999998 0.743 0.359 ... 160.083 4 0.588]\n",
      " [0.0344 0.838 0.41200000000000003 ... 75.044 4 0.17300000000000001]\n",
      " ...\n",
      " [0.000239 0.32899999999999996 0.8140000000000001 ... 120.462 4\n",
      "  0.40299999999999997]\n",
      " [0.19 0.7759999999999999 0.507 ... 98.051 4 0.51]\n",
      " [0.198 0.89 0.52 ... 114.959 4 0.7170000000000001]]\n",
      "['happy' 'calm' 'calm' 'sad' 'sad' 'happy' 'anger' 'calm' 'anger' 'anger'\n",
      " 'happy' 'happy' 'calm' 'calm' 'calm' 'anger' 'happy' 'happy' 'anger'\n",
      " 'happy' 'happy' 'anger' 'anger' 'anger' 'sad' 'anger' 'anger' 'anger'\n",
      " 'anger' 'anger' 'anger' 'calm' 'anger' 'anger' 'calm' 'anger' 'anger'\n",
      " 'anger' 'anger' 'happy' 'happy' 'anger' 'calm' 'anger' 'anger' 'calm'\n",
      " 'happy' 'happy' 'happy' 'happy' 'calm' 'calm' 'sad' 'sad' 'calm' 'calm'\n",
      " 'calm' 'calm' 'calm' 'sad' 'sad' 'sad' 'calm' 'sad' 'calm' 'sad' 'happy'\n",
      " 'calm' 'happy' 'anger' 'happy' 'calm' 'calm' 'happy' 'happy' 'happy'\n",
      " 'sad' 'sad' 'sad' 'calm' 'calm' 'anger' 'calm' 'calm' 'happy' 'happy'\n",
      " 'happy' 'happy' 'calm' 'happy' 'anger' 'anger' 'calm' 'happy' 'anger'\n",
      " 'sad' 'happy' 'happy' 'sad' 'anger' 'sad' 'sad' 'calm' 'anger' 'happy'\n",
      " 'happy' 'happy' 'sad' 'calm' 'anger' 'happy' 'calm' 'happy' 'sad' 'happy'\n",
      " 'happy' 'anger' 'happy' 'calm' 'anger' 'anger' 'anger' 'calm' 'happy'\n",
      " 'happy' 'sad' 'sad' 'happy' 'anger' 'anger' 'happy' 'happy' 'sad' 'happy'\n",
      " 'anger' 'calm' 'happy' 'happy' 'anger' 'sad' 'sad' 'happy' 'sad' 'calm'\n",
      " 'sad' 'happy' 'calm' 'happy']\n"
     ]
    }
   ],
   "source": [
    "array = dataset.values\n",
    "x = array[:, 0:12]\n",
    "y= array[:,14]\n",
    "print(x)\n",
    "print(y)\n",
    "x_train, x_validation, y_train, y_validation = train_test_split(x, y, test_size=0.05, random_state=10)"
   ]
  },
  {
   "cell_type": "code",
   "execution_count": 7,
   "metadata": {},
   "outputs": [
    {
     "name": "stdout",
     "output_type": "stream",
     "text": [
      "accuracy percentage standard deviation\n",
      "LR: 0.451209 (0.038210)\n",
      "LDA: 0.485931 (0.033689)\n",
      "KNN: 0.386219 (0.048768)\n",
      "CART: 0.393994 (0.060296)\n",
      "NB: 0.424026 (0.090693)\n",
      "SVM: 0.393759 (0.038132)\n"
     ]
    }
   ],
   "source": [
    "models = []\n",
    "models.append(('LR', LogisticRegression(solver='liblinear', multi_class='ovr')))\n",
    "models.append(('LDA', LinearDiscriminantAnalysis()))\n",
    "models.append(('KNN', KNeighborsClassifier()))\n",
    "models.append(('CART', DecisionTreeClassifier()))\n",
    "models.append(('NB', GaussianNB()))\n",
    "models.append(('SVM', SVC(gamma='auto')))\n",
    "# evaluate each model in turn\n",
    "results = []\n",
    "names = []\n",
    "print(\"accuracy percentage\", \"standard deviation\" )\n",
    "for name, model in models:\n",
    "    kfold = StratifiedKFold(n_splits=4, random_state=1)\n",
    "    cv_results = cross_val_score(model, x_train, y_train, cv=kfold, scoring='accuracy')\n",
    "    results.append(cv_results)\n",
    "    names.append(name)\n",
    "    print('%s: %f (%f)' % (name, cv_results.mean(), cv_results.std()))"
   ]
  },
  {
   "cell_type": "code",
   "execution_count": 8,
   "metadata": {},
   "outputs": [],
   "source": [
    "model =LinearDiscriminantAnalysis()\n",
    "model.fit(x_train, y_train)\n",
    "predictions = model.predict(x_validation)"
   ]
  },
  {
   "cell_type": "code",
   "execution_count": 9,
   "metadata": {},
   "outputs": [
    {
     "name": "stdout",
     "output_type": "stream",
     "text": [
      "0.875\n",
      "[[1 0 0 0]\n",
      " [0 1 0 0]\n",
      " [1 0 3 0]\n",
      " [0 0 0 2]]\n",
      "              precision    recall  f1-score   support\n",
      "\n",
      "       anger       0.50      1.00      0.67         1\n",
      "        calm       1.00      1.00      1.00         1\n",
      "       happy       1.00      0.75      0.86         4\n",
      "         sad       1.00      1.00      1.00         2\n",
      "\n",
      "   micro avg       0.88      0.88      0.88         8\n",
      "   macro avg       0.88      0.94      0.88         8\n",
      "weighted avg       0.94      0.88      0.89         8\n",
      "\n"
     ]
    }
   ],
   "source": [
    "print(accuracy_score(y_validation, predictions))\n",
    "print(confusion_matrix(y_validation, predictions))\n",
    "print(classification_report(y_validation, predictions))"
   ]
  },
  {
   "cell_type": "code",
   "execution_count": 10,
   "metadata": {},
   "outputs": [
    {
     "name": "stdout",
     "output_type": "stream",
     "text": [
      "        0.0102  0.833  0.434    0.0219   2   0.165  -8.795  1   0.431  \\\n",
      "0     0.199000  0.743  0.359  0.006110   1  0.1370 -10.401  1  0.0794   \n",
      "1     0.034400  0.838  0.412  0.000234   2  0.1590  -7.148  1  0.2890   \n",
      "2     0.604000  0.494  0.338  0.510000   5  0.0922 -15.236  1  0.0261   \n",
      "3     0.180000  0.678  0.561  0.512000   5  0.4390 -11.648  0  0.0694   \n",
      "4     0.004790  0.804  0.560  0.000000   8  0.1640  -6.682  1  0.1850   \n",
      "5     0.014500  0.739  0.472  0.000007   1  0.2070 -11.204  1  0.1560   \n",
      "6     0.020200  0.266  0.348  0.664000  10  0.1600 -11.609  0  0.0371   \n",
      "7     0.048100  0.603  0.944  0.000000  11  0.3420  -3.626  0  0.3470   \n",
      "8     0.002080  0.836  0.603  0.000000   7  0.5710  -7.792  1  0.2370   \n",
      "9     0.057200  0.525  0.855  0.014300   5  0.6490  -7.372  0  0.0548   \n",
      "10    0.091500  0.753  0.748  0.003480  10  0.2120  -8.620  1  0.0494   \n",
      "11    0.253000  0.603  0.434  0.061900   0  0.1080 -11.062  1  0.0342   \n",
      "12    0.366000  0.762  0.476  0.000000   0  0.1030 -12.686  1  0.1140   \n",
      "13    0.440000  0.662  0.603  0.000000   9  0.0972  -8.317  0  0.0793   \n",
      "14    0.019000  0.637  0.832  0.056300   6  0.3160  -6.637  1  0.1630   \n",
      "15    0.023900  0.603  0.955  0.045100   1  0.1190  -4.111  1  0.0458   \n",
      "16    0.233000  0.789  0.659  0.000490   4  0.1840 -12.654  0  0.0429   \n",
      "17    0.314000  0.713  0.611  0.000000   1  0.1170  -6.702  0  0.2410   \n",
      "18    0.024200  0.735  0.759  0.185000   1  0.0966  -6.914  0  0.0449   \n",
      "19    0.000702  0.854  0.719  0.308000  10  0.4280  -9.335  0  0.0655   \n",
      "20    0.000240  0.747  0.740  0.369000   1  0.0995  -4.134  1  0.0323   \n",
      "21    0.118000  0.854  0.401  0.000000   9  0.5270  -8.553  1  0.3950   \n",
      "22    0.000596  0.224  0.925  0.000001  11  0.0663  -1.710  0  0.0834   \n",
      "23    0.279000  0.512  0.564  0.000015  10  0.1330  -5.892  1  0.0316   \n",
      "24    0.002190  0.781  0.795  0.269000   7  0.0673  -6.758  1  0.0360   \n",
      "25    0.341000  0.411  0.684  0.000001  11  0.1980  -6.889  0  0.3830   \n",
      "26    0.018000  0.646  0.837  0.040300   6  0.3160  -6.615  1  0.1340   \n",
      "27    0.051600  0.782  0.572  0.000000   4  0.3300  -7.467  0  0.0385   \n",
      "28    0.282000  0.735  0.400  0.125000   1  0.0811 -12.766  1  0.1020   \n",
      "29    0.007910  0.450  0.449  0.000000   2  0.1730 -12.037  1  0.1560   \n",
      "...        ...    ...    ...       ...  ..     ...     ... ..     ...   \n",
      "1986  0.028300  0.421  0.831  0.000000   4  0.4640  -5.128  1  0.1070   \n",
      "1987  0.000084  0.467  0.794  0.002040   1  0.1030  -6.174  0  0.0349   \n",
      "1988  0.000797  0.480  0.826  0.000001   0  0.1250  -4.602  1  0.0397   \n",
      "1989  0.000590  0.594  0.858  0.000003   9  0.0642  -4.339  1  0.0387   \n",
      "1990  0.000366  0.544  0.788  0.000000   5  0.1410  -5.593  0  0.0474   \n",
      "1991  0.007490  0.446  0.881  0.000000   2  0.1300  -4.368  1  0.0545   \n",
      "1992  0.001900  0.551  0.732  0.000000   9  0.0764  -6.081  1  0.0627   \n",
      "1993  0.510000  0.630  0.772  0.000023   1  0.0881  -6.986  1  0.0297   \n",
      "1994  0.020200  0.333  0.913  0.000000   2  0.1460  -3.722  1  0.0808   \n",
      "1995  0.003630  0.743  0.889  0.143000  10  0.3830  -5.567  1  0.0409   \n",
      "1996  0.000870  0.465  0.953  0.014600   8  0.2260  -4.684  0  0.2950   \n",
      "1997  0.031600  0.680  0.725  0.000018   6  0.1120  -3.920  1  0.0611   \n",
      "1998  0.004990  0.619  0.949  0.000418   6  0.1790  -4.640  0  0.0658   \n",
      "1999  0.093500  0.520  0.809  0.003500   1  0.0939  -4.180  1  0.0500   \n",
      "2000  0.002620  0.484  0.609  0.000000  11  0.3390  -5.652  0  0.0303   \n",
      "2001  0.030100  0.583  0.891  0.000003   7  0.1290  -3.495  1  0.4470   \n",
      "2002  0.000461  0.562  0.960  0.038300   9  0.7160  -2.981  1  0.0692   \n",
      "2003  0.096900  0.595  0.975  0.000000   8  0.1020  -2.339  0  0.3640   \n",
      "2004  0.021600  0.526  0.825  0.000001   5  0.4260  -3.506  0  0.0875   \n",
      "2005  0.178000  0.501  0.683  0.000003   1  0.3850  -4.261  0  0.0651   \n",
      "2006  0.002170  0.639  0.978  0.112000  11  0.0838  -2.376  1  0.0730   \n",
      "2007  0.054100  0.646  0.714  0.000000   0  0.1340  -6.511  1  0.0378   \n",
      "2008  0.004990  0.595  0.837  0.035900   1  0.1010  -6.011  1  0.0696   \n",
      "2009  0.002310  0.624  0.971  0.121000   6  0.2550  -0.935  0  0.0643   \n",
      "2010  0.000586  0.528  0.879  0.004890   6  0.0432  -5.891  0  0.1200   \n",
      "2011  0.001060  0.584  0.932  0.002690   1  0.1290  -3.501  1  0.3330   \n",
      "2012  0.087700  0.894  0.892  0.001670   1  0.0528  -2.663  1  0.1310   \n",
      "2013  0.008570  0.637  0.935  0.003990   0  0.2140  -2.467  1  0.1070   \n",
      "2014  0.001640  0.557  0.992  0.677000   1  0.0913  -2.735  1  0.1330   \n",
      "2015  0.002810  0.446  0.915  0.000039   9  0.2180  -6.221  1  0.1410   \n",
      "\n",
      "      150.062  4  0.286                                      Mask Off  \\\n",
      "0     160.083  4  0.588                                       Redbone   \n",
      "1      75.044  4  0.173                                  Xanny Family   \n",
      "2      86.468  4  0.230                                Master Of None   \n",
      "3     174.004  4  0.904                                Parallel Lines   \n",
      "4      85.023  4  0.264                                      Sneakin’   \n",
      "5      80.030  4  0.308                                   Childs Play   \n",
      "6     144.154  4  0.393                               Gyöngyhajú lány   \n",
      "7     130.035  4  0.398                             I've Seen Footage   \n",
      "8      99.994  4  0.386                                Digital Animal   \n",
      "9     111.951  3  0.524          Subways - In Flagranti Extended Edit   \n",
      "10    104.322  4  0.642                    Donme Dolap - Baris K Edit   \n",
      "11    127.681  4  0.381                                       Cemalim   \n",
      "12    130.007  4  0.367                                     One Night   \n",
      "13    125.011  4  0.351                                       Oh lala   \n",
      "14     99.988  4  0.317                                          Char   \n",
      "15    123.922  4  0.773                               World In Motion   \n",
      "16    122.415  4  0.842                     One Nation Under a Groove   \n",
      "17    140.061  4  0.783                                       Bouncin   \n",
      "18    109.982  4  0.763                          C O O L - Radio Edit   \n",
      "19    128.049  4  0.471    Percolator (Jamie Jones Vault Mix) - mixed   \n",
      "20    130.031  4  0.770                       House of Jealous Lovers   \n",
      "21    139.922  4  0.441                                     Imma Ride   \n",
      "22    138.022  4  0.364                                    Girlfriend   \n",
      "23     94.498  4  0.401                         If I Gave You My Love   \n",
      "24    109.977  4  0.795                              This Ready Flesh   \n",
      "25    110.016  4  0.598                                  Lose My Mind   \n",
      "26    100.040  4  0.320                                          Char   \n",
      "27    120.021  4  0.237                                    Look Alive   \n",
      "28    129.004  4  0.326               Please Stop Making Fake Versace   \n",
      "29    135.450  4  0.137                                    Milly Rock   \n",
      "...       ... ..    ...                                           ...   \n",
      "1986  134.027  4  0.489                                Work This Body   \n",
      "1987  162.435  4  0.577                                     Tightrope   \n",
      "1988   96.000  4  0.701                              Different Colors   \n",
      "1989  138.021  4  0.646                                     Avalanche   \n",
      "1990  148.121  4  0.821                                         Jenny   \n",
      "1991  169.889  4  0.428                                      Portugal   \n",
      "1992  145.107  4  0.628                                    Quesadilla   \n",
      "1993   99.964  4  0.714                                       Aquaman   \n",
      "1994   99.889  4  0.129                  Paris - Pegboard Nerds Remix   \n",
      "1995  103.963  4  0.186                         Quit You - Wuki Remix   \n",
      "1996  160.064  4  0.554              Don't Let Me Down - Zomboy Remix   \n",
      "1997  140.048  4  0.260                         Faded - Slushii Remix   \n",
      "1998  149.935  4  0.257       Can't Get Enough - Pegboard Nerds Remix   \n",
      "1999  170.032  4  0.362                          Light - Loosid Remix   \n",
      "2000  131.049  4  0.266      Something Just Like This - ARMNHMR Remix   \n",
      "2001  149.843  4  0.321                                     Without U   \n",
      "2002  159.927  4  0.311                                       Hold Up   \n",
      "2003  150.001  4  0.183              Phone Down - Dodge & Fuski Remix   \n",
      "2004  150.181  4  0.108                      Spoon Me - Slushii Remix   \n",
      "2005  154.901  4  0.307             Scared To Be Lonely (Conro Remix)   \n",
      "2006  144.986  4  0.494  Let It Go - Scott Melker & Mister Gray Remix   \n",
      "2007   97.957  4  0.589     Call On Me - EDWYNN X TIKAL, Spirix Remix   \n",
      "2008  149.964  4  0.331                                         Aamon   \n",
      "2009  102.003  4  0.442                   Hey Baby - Steve Aoki Remix   \n",
      "2010  128.268  4  0.327                   Brightside - Borgeous Remix   \n",
      "2011   74.976  4  0.211           Like A Bitch - Kill The Noise Remix   \n",
      "2012  110.041  4  0.867                                         Candy   \n",
      "2013  150.082  4  0.470          Habit - Dack Janiels & Wenzday Remix   \n",
      "2014  150.011  4  0.623                                 First Contact   \n",
      "2015  190.013  4  0.402                            I Wanna Get Better   \n",
      "\n",
      "                         Future  \n",
      "0              Childish Gambino  \n",
      "1                        Future  \n",
      "2                   Beach House  \n",
      "3                   Junior Boys  \n",
      "4                         Drake  \n",
      "5                         Drake  \n",
      "6                         Omega  \n",
      "7                   Death Grips  \n",
      "8                   Honey Claws  \n",
      "9                The Avalanches  \n",
      "10           Modern Folk Üçlüsü  \n",
      "11                  Erkin Koray  \n",
      "12                   Lil Yachty  \n",
      "13                          PNL  \n",
      "14              Crystal Castles  \n",
      "15                    New Order  \n",
      "16                   Funkadelic  \n",
      "17                   Chief Keef  \n",
      "18                     Le Youth  \n",
      "19                      Cajmere  \n",
      "20                  The Rapture  \n",
      "21                   Young Thug  \n",
      "22                    Ty Segall  \n",
      "23                    Myron & E  \n",
      "24                        TR/ST  \n",
      "25                       A-Trak  \n",
      "26              Crystal Castles  \n",
      "27                 Rae Sremmurd  \n",
      "28                       Father  \n",
      "29                       2milly  \n",
      "...                         ...  \n",
      "1986              WALK THE MOON  \n",
      "1987              WALK THE MOON  \n",
      "1988              WALK THE MOON  \n",
      "1989              WALK THE MOON  \n",
      "1990              WALK THE MOON  \n",
      "1991              WALK THE MOON  \n",
      "1992              WALK THE MOON  \n",
      "1993              WALK THE MOON  \n",
      "1994           The Chainsmokers  \n",
      "1995                 Lost Kings  \n",
      "1996           The Chainsmokers  \n",
      "1997                Alan Walker  \n",
      "1998            Tommie Sunshine  \n",
      "1999                   San Holo  \n",
      "2000           The Chainsmokers  \n",
      "2001                 Steve Aoki  \n",
      "2002                   Borgeous  \n",
      "2003                 Lost Kings  \n",
      "2004                  Elliphant  \n",
      "2005              Martin Garrix  \n",
      "2006                      NERVO  \n",
      "2007                    Starley  \n",
      "2008                      Kuuro  \n",
      "2009  Dimitri Vegas & Like Mike  \n",
      "2010                  Icona Pop  \n",
      "2011             Kill The Noise  \n",
      "2012             Dillon Francis  \n",
      "2013                   Rain Man  \n",
      "2014                 Twin Moons  \n",
      "2015                  Bleachers  \n",
      "\n",
      "[2016 rows x 14 columns]\n"
     ]
    }
   ],
   "source": [
    "test_url = \"https://raw.githubusercontent.com/FLIU253/machine-learning/master/spotify-mood-music-recommendations/version1/cleaned%20master.csv?token=AGLVLQAK3UDBQWTXVVZGCMK56EOPI\"\n",
    "test_dataset = read_csv(test_url)\n",
    "print(test_dataset)"
   ]
  },
  {
   "cell_type": "code",
   "execution_count": 32,
   "metadata": {},
   "outputs": [],
   "source": [
    "test_array = test_dataset.values\n",
    "x = test_array[:,0:12]\n",
    "new_data = []\n",
    "for data in x:\n",
    "     new_data.extend(model.predict([data]))"
   ]
  },
  {
   "cell_type": "code",
   "execution_count": 33,
   "metadata": {},
   "outputs": [
    {
     "name": "stdout",
     "output_type": "stream",
     "text": [
      "['calm', 'anger', 'sad', 'happy', 'anger', 'calm', 'sad', 'anger', 'anger', 'happy', 'happy', 'calm', 'calm', 'calm', 'anger', 'happy', 'happy', 'happy', 'happy', 'happy', 'happy', 'anger', 'calm', 'sad', 'happy', 'anger', 'anger', 'calm', 'calm', 'calm', 'anger', 'anger', 'anger', 'happy', 'anger', 'happy', 'anger', 'happy', 'happy', 'happy', 'anger', 'calm', 'anger', 'anger', 'happy', 'happy', 'happy', 'happy', 'happy', 'happy', 'happy', 'sad', 'sad', 'calm', 'calm', 'calm', 'calm', 'calm', 'sad', 'sad', 'calm', 'happy', 'happy', 'happy', 'happy', 'calm', 'calm', 'happy', 'anger', 'happy', 'sad', 'happy', 'happy', 'happy', 'anger', 'sad', 'sad', 'sad', 'calm', 'happy', 'anger', 'happy', 'calm', 'anger', 'happy', 'happy', 'happy', 'happy', 'happy', 'anger', 'happy', 'anger', 'happy', 'happy', 'happy', 'happy', 'happy', 'sad', 'anger', 'happy', 'anger', 'anger', 'happy', 'anger', 'happy', 'happy', 'sad', 'anger', 'sad', 'sad', 'happy', 'calm', 'anger', 'anger', 'anger', 'anger', 'happy', 'anger', 'happy', 'anger', 'sad', 'anger', 'anger', 'calm', 'calm', 'happy', 'anger', 'happy', 'calm', 'anger', 'happy', 'anger', 'happy', 'calm', 'happy', 'anger', 'happy', 'happy', 'anger', 'anger', 'anger', 'anger', 'calm', 'happy', 'calm', 'happy', 'anger', 'anger', 'anger', 'anger', 'anger', 'sad', 'happy', 'anger', 'happy', 'happy', 'anger', 'anger', 'happy', 'sad', 'happy', 'anger', 'happy', 'calm', 'calm', 'happy', 'anger', 'anger', 'calm', 'anger', 'calm', 'anger', 'happy', 'anger', 'happy', 'sad', 'happy', 'happy', 'calm', 'anger', 'happy', 'happy', 'sad', 'anger', 'calm', 'happy', 'anger', 'anger', 'calm', 'sad', 'sad', 'anger', 'anger', 'calm', 'anger', 'happy', 'happy', 'calm', 'happy', 'happy', 'anger', 'happy', 'calm', 'calm', 'happy', 'happy', 'happy', 'sad', 'calm', 'sad', 'happy', 'anger', 'calm', 'calm', 'happy', 'anger', 'anger', 'anger', 'calm', 'happy', 'happy', 'happy', 'sad', 'happy', 'happy', 'calm', 'anger', 'happy', 'calm', 'calm', 'happy', 'happy', 'anger', 'calm', 'happy', 'sad', 'sad', 'calm', 'calm', 'happy', 'happy', 'happy', 'happy', 'anger', 'happy', 'calm', 'happy', 'anger', 'happy', 'happy', 'calm', 'calm', 'happy', 'calm', 'happy', 'happy', 'happy', 'sad', 'happy', 'anger', 'anger', 'anger', 'sad', 'sad', 'happy', 'calm', 'anger', 'happy', 'anger', 'calm', 'happy', 'calm', 'calm', 'sad', 'sad', 'happy', 'anger', 'happy', 'calm', 'happy', 'happy', 'happy', 'anger', 'happy', 'sad', 'sad', 'calm', 'happy', 'anger', 'anger', 'anger', 'happy', 'anger', 'happy', 'calm', 'sad', 'calm', 'happy', 'happy', 'happy', 'calm', 'calm', 'anger', 'sad', 'anger', 'calm', 'calm', 'anger', 'happy', 'anger', 'anger', 'anger', 'happy', 'anger', 'happy', 'happy', 'happy', 'calm', 'calm', 'happy', 'happy', 'happy', 'happy', 'calm', 'happy', 'anger', 'calm', 'calm', 'happy', 'calm', 'calm', 'happy', 'calm', 'happy', 'anger', 'anger', 'happy', 'anger', 'anger', 'happy', 'calm', 'anger', 'calm', 'sad', 'happy', 'happy', 'anger', 'happy', 'calm', 'anger', 'happy', 'anger', 'happy', 'happy', 'happy', 'calm', 'anger', 'happy', 'happy', 'happy', 'happy', 'happy', 'happy', 'anger', 'happy', 'anger', 'anger', 'calm', 'happy', 'anger', 'anger', 'happy', 'calm', 'calm', 'anger', 'happy', 'happy', 'anger', 'sad', 'calm', 'happy', 'sad', 'sad', 'happy', 'calm', 'sad', 'anger', 'happy', 'calm', 'anger', 'happy', 'happy', 'happy', 'calm', 'sad', 'happy', 'calm', 'happy', 'calm', 'sad', 'happy', 'happy', 'happy', 'calm', 'happy', 'happy', 'sad', 'happy', 'happy', 'happy', 'anger', 'happy', 'happy', 'anger', 'calm', 'calm', 'calm', 'calm', 'happy', 'anger', 'anger', 'happy', 'happy', 'happy', 'happy', 'anger', 'happy', 'anger', 'anger', 'happy', 'anger', 'happy', 'calm', 'calm', 'happy', 'happy', 'happy', 'sad', 'calm', 'calm', 'anger', 'happy', 'anger', 'happy', 'sad', 'happy', 'sad', 'calm', 'anger', 'calm', 'anger', 'anger', 'happy', 'happy', 'happy', 'sad', 'happy', 'anger', 'happy', 'happy', 'happy', 'happy', 'happy', 'happy', 'anger', 'anger', 'happy', 'happy', 'anger', 'happy', 'happy', 'sad', 'happy', 'anger', 'anger', 'happy', 'anger', 'anger', 'anger', 'calm', 'calm', 'calm', 'happy', 'happy', 'anger', 'calm', 'anger', 'anger', 'happy', 'happy', 'happy', 'happy', 'calm', 'anger', 'happy', 'happy', 'happy', 'happy', 'happy', 'happy', 'anger', 'happy', 'happy', 'sad', 'calm', 'sad', 'sad', 'anger', 'happy', 'anger', 'anger', 'happy', 'happy', 'happy', 'calm', 'happy', 'calm', 'happy', 'happy', 'happy', 'sad', 'sad', 'happy', 'calm', 'happy', 'calm', 'happy', 'happy', 'anger', 'happy', 'happy', 'happy', 'happy', 'happy', 'calm', 'calm', 'calm', 'calm', 'happy', 'calm', 'happy', 'sad', 'happy', 'happy', 'anger', 'happy', 'happy', 'happy', 'anger', 'happy', 'happy', 'happy', 'anger', 'happy', 'happy', 'anger', 'anger', 'happy', 'anger', 'happy', 'calm', 'happy', 'happy', 'happy', 'calm', 'happy', 'happy', 'sad', 'happy', 'anger', 'happy', 'happy', 'happy', 'anger', 'happy', 'anger', 'calm', 'anger', 'happy', 'happy', 'anger', 'happy', 'anger', 'anger', 'calm', 'anger', 'happy', 'anger', 'anger', 'anger', 'anger', 'happy', 'happy', 'calm', 'happy', 'happy', 'happy', 'anger', 'calm', 'calm', 'happy', 'happy', 'happy', 'happy', 'happy', 'anger', 'happy', 'happy', 'happy', 'happy', 'anger', 'anger', 'anger', 'happy', 'anger', 'happy', 'calm', 'anger', 'happy', 'calm', 'anger', 'anger', 'happy', 'happy', 'happy', 'anger', 'calm', 'anger', 'anger', 'happy', 'anger', 'calm', 'happy', 'calm', 'anger', 'anger', 'anger', 'happy', 'happy', 'anger', 'calm', 'happy', 'happy', 'anger', 'anger', 'happy', 'happy', 'happy', 'anger', 'happy', 'anger', 'happy', 'happy', 'anger', 'happy', 'happy', 'anger', 'happy', 'happy', 'happy', 'happy', 'anger', 'happy', 'anger', 'anger', 'anger', 'happy', 'calm', 'anger', 'anger', 'anger', 'anger', 'happy', 'happy', 'anger', 'calm', 'happy', 'anger', 'anger', 'anger', 'anger', 'happy', 'anger', 'happy', 'calm', 'happy', 'happy', 'anger', 'happy', 'anger', 'happy', 'anger', 'anger', 'happy', 'calm', 'happy', 'anger', 'anger', 'anger', 'happy', 'happy', 'anger', 'happy', 'anger', 'happy', 'happy', 'sad', 'calm', 'calm', 'happy', 'happy', 'happy', 'happy', 'happy', 'calm', 'anger', 'calm', 'sad', 'happy', 'calm', 'happy', 'happy', 'sad', 'happy', 'happy', 'sad', 'happy', 'happy', 'calm', 'anger', 'anger', 'anger', 'sad', 'calm', 'happy', 'anger', 'calm', 'happy', 'happy', 'sad', 'happy', 'calm', 'calm', 'calm', 'calm', 'happy', 'calm', 'calm', 'anger', 'happy', 'happy', 'anger', 'happy', 'anger', 'happy', 'anger', 'happy', 'anger', 'anger', 'happy', 'sad', 'happy', 'happy', 'happy', 'happy', 'happy', 'happy', 'happy', 'happy', 'happy', 'happy', 'happy', 'happy', 'happy', 'happy', 'calm', 'anger', 'happy', 'anger', 'anger', 'sad', 'sad', 'anger', 'calm', 'calm', 'sad', 'happy', 'happy', 'sad', 'happy', 'calm', 'anger', 'happy', 'happy', 'happy', 'happy', 'happy', 'anger', 'happy', 'calm', 'anger', 'anger', 'sad', 'sad', 'happy', 'sad', 'happy', 'calm', 'sad', 'sad', 'anger', 'anger', 'anger', 'happy', 'sad', 'anger', 'sad', 'anger', 'happy', 'happy', 'happy', 'happy', 'happy', 'calm', 'happy', 'anger', 'happy', 'calm', 'happy', 'happy', 'happy', 'anger', 'calm', 'happy', 'happy', 'calm', 'happy', 'happy', 'calm', 'calm', 'happy', 'calm', 'sad', 'calm', 'happy', 'happy', 'happy', 'happy', 'happy', 'happy', 'happy', 'happy', 'anger', 'sad', 'calm', 'happy', 'calm', 'sad', 'happy', 'happy', 'happy', 'happy', 'happy', 'happy', 'calm', 'sad', 'calm', 'calm', 'happy', 'happy', 'calm', 'happy', 'sad', 'sad', 'happy', 'anger', 'sad', 'anger', 'happy', 'sad', 'happy', 'calm', 'happy', 'happy', 'happy', 'sad', 'happy', 'happy', 'calm', 'calm', 'happy', 'happy', 'happy', 'happy', 'anger', 'happy', 'happy', 'happy', 'happy', 'happy', 'calm', 'happy', 'calm', 'happy', 'happy', 'happy', 'happy', 'happy', 'calm', 'happy', 'happy', 'happy', 'happy', 'happy', 'happy', 'happy', 'calm', 'happy', 'sad', 'happy', 'sad', 'anger', 'happy', 'happy', 'happy', 'sad', 'sad', 'happy', 'happy', 'calm', 'sad', 'anger', 'happy', 'happy', 'happy', 'anger', 'anger', 'sad', 'calm', 'happy', 'happy', 'happy', 'happy', 'happy', 'happy', 'happy', 'happy', 'happy', 'anger', 'anger', 'calm', 'sad', 'anger', 'happy', 'sad', 'sad', 'sad', 'anger', 'anger', 'happy', 'happy', 'sad', 'happy', 'sad', 'happy', 'calm', 'anger', 'anger', 'anger', 'anger', 'anger', 'sad', 'sad', 'calm', 'calm', 'calm', 'calm', 'anger', 'happy', 'calm', 'calm', 'calm', 'anger', 'happy', 'happy', 'happy', 'happy', 'calm', 'happy', 'calm', 'anger', 'anger', 'happy', 'anger', 'happy', 'happy', 'anger', 'anger', 'anger', 'happy', 'anger', 'anger', 'anger', 'anger', 'anger', 'anger', 'happy', 'anger', 'anger', 'anger', 'anger', 'anger', 'anger', 'anger', 'anger', 'anger', 'anger', 'anger', 'anger', 'sad', 'calm', 'happy', 'happy', 'happy', 'calm', 'happy', 'happy', 'calm', 'happy', 'calm', 'happy', 'happy', 'happy', 'calm', 'calm', 'happy', 'sad', 'calm', 'sad', 'happy', 'happy', 'happy', 'calm', 'sad', 'calm', 'happy', 'calm', 'happy', 'calm', 'happy', 'happy', 'anger', 'calm', 'happy', 'happy', 'happy', 'calm', 'calm', 'calm', 'calm', 'happy', 'calm', 'sad', 'happy', 'sad', 'happy', 'happy', 'calm', 'calm', 'happy', 'calm', 'calm', 'happy', 'sad', 'happy', 'calm', 'happy', 'happy', 'happy', 'happy', 'happy', 'happy', 'happy', 'anger', 'happy', 'anger', 'happy', 'happy', 'happy', 'happy', 'happy', 'happy', 'anger', 'happy', 'happy', 'calm', 'anger', 'anger', 'happy', 'happy', 'happy', 'happy', 'happy', 'happy', 'happy', 'happy', 'happy', 'happy', 'happy', 'happy', 'happy', 'happy', 'anger', 'happy', 'calm', 'happy', 'happy', 'happy', 'happy', 'happy', 'happy', 'calm', 'happy', 'calm', 'happy', 'happy', 'happy', 'anger', 'happy', 'calm', 'anger', 'anger', 'anger', 'happy', 'happy', 'calm', 'happy', 'anger', 'happy', 'happy', 'calm', 'calm', 'calm', 'happy', 'calm', 'calm', 'sad', 'sad', 'happy', 'calm', 'happy', 'calm', 'calm', 'anger', 'sad', 'happy', 'calm', 'calm', 'calm', 'happy', 'happy', 'calm', 'anger', 'happy', 'calm', 'anger', 'sad', 'calm', 'happy', 'calm', 'happy', 'calm', 'anger', 'happy', 'calm', 'anger', 'calm', 'happy', 'calm', 'happy', 'anger', 'calm', 'calm', 'happy', 'happy', 'happy', 'anger', 'happy', 'happy', 'happy', 'happy', 'anger', 'happy', 'happy', 'anger', 'anger', 'anger', 'happy', 'happy', 'calm', 'happy', 'happy', 'happy', 'happy', 'happy', 'happy', 'happy', 'happy', 'happy', 'happy', 'happy', 'happy', 'calm', 'anger', 'happy', 'calm', 'happy', 'anger', 'happy', 'happy', 'sad', 'anger', 'calm', 'happy', 'happy', 'anger', 'happy', 'happy', 'sad', 'calm', 'calm', 'sad', 'sad', 'sad', 'sad', 'calm', 'sad', 'calm', 'calm', 'calm', 'calm', 'calm', 'happy', 'sad', 'calm', 'sad', 'sad', 'sad', 'sad', 'happy', 'happy', 'calm', 'sad', 'sad', 'calm', 'calm', 'sad', 'happy', 'anger', 'sad', 'happy', 'happy', 'happy', 'sad', 'happy', 'happy', 'calm', 'calm', 'anger', 'happy', 'calm', 'sad', 'happy', 'sad', 'happy', 'happy', 'sad', 'calm', 'anger', 'anger', 'happy', 'sad', 'calm', 'calm', 'sad', 'calm', 'calm', 'sad', 'sad', 'sad', 'calm', 'happy', 'calm', 'calm', 'sad', 'anger', 'anger', 'anger', 'anger', 'anger', 'calm', 'anger', 'anger', 'anger', 'happy', 'sad', 'anger', 'anger', 'anger', 'anger', 'sad', 'calm', 'sad', 'sad', 'anger', 'anger', 'anger', 'anger', 'anger', 'anger', 'anger', 'anger', 'anger', 'anger', 'anger', 'anger', 'anger', 'anger', 'anger', 'anger', 'anger', 'anger', 'anger', 'anger', 'happy', 'anger', 'sad', 'happy', 'anger', 'anger', 'anger', 'anger', 'happy', 'anger', 'anger', 'anger', 'happy', 'anger', 'anger', 'anger', 'anger', 'anger', 'anger', 'happy', 'anger', 'sad', 'sad', 'calm', 'happy', 'sad', 'sad', 'sad', 'calm', 'sad', 'sad', 'calm', 'happy', 'calm', 'sad', 'sad', 'sad', 'calm', 'calm', 'calm', 'anger', 'calm', 'calm', 'sad', 'sad', 'sad', 'happy', 'sad', 'calm', 'sad', 'anger', 'calm', 'calm', 'calm', 'sad', 'happy', 'happy', 'happy', 'sad', 'sad', 'sad', 'sad', 'happy', 'sad', 'sad', 'sad', 'calm', 'sad', 'calm', 'sad', 'sad', 'sad', 'sad', 'calm', 'anger', 'anger', 'anger', 'anger', 'anger', 'anger', 'anger', 'anger', 'anger', 'anger', 'calm', 'anger', 'anger', 'anger', 'anger', 'anger', 'anger', 'anger', 'happy', 'happy', 'anger', 'happy', 'calm', 'happy', 'anger', 'happy', 'calm', 'anger', 'anger', 'happy', 'happy', 'anger', 'happy', 'calm', 'anger', 'happy', 'sad', 'anger', 'anger', 'anger', 'happy', 'happy', 'sad', 'anger', 'anger', 'happy', 'anger', 'happy', 'anger', 'calm', 'anger', 'anger', 'happy', 'sad', 'anger', 'calm', 'anger', 'anger', 'anger', 'happy', 'calm', 'anger', 'calm', 'happy', 'happy', 'calm', 'happy', 'anger', 'happy', 'happy', 'anger', 'happy', 'happy', 'happy', 'calm', 'happy', 'happy', 'calm', 'happy', 'calm', 'sad', 'happy', 'happy', 'happy', 'happy', 'happy', 'happy', 'anger', 'anger', 'anger', 'calm', 'happy', 'calm', 'anger', 'happy', 'anger', 'calm', 'calm', 'calm', 'sad', 'anger', 'anger', 'calm', 'sad', 'sad', 'sad', 'sad', 'sad', 'sad', 'sad', 'sad', 'sad', 'sad', 'sad', 'sad', 'sad', 'sad', 'sad', 'sad', 'sad', 'sad', 'sad', 'sad', 'sad', 'sad', 'sad', 'sad', 'sad', 'sad', 'sad', 'sad', 'sad', 'sad', 'sad', 'sad', 'sad', 'sad', 'sad', 'sad', 'sad', 'sad', 'sad', 'sad', 'sad', 'sad', 'sad', 'sad', 'sad', 'sad', 'sad', 'sad', 'sad', 'sad', 'sad', 'sad', 'sad', 'sad', 'sad', 'sad', 'sad', 'sad', 'sad', 'sad', 'sad', 'sad', 'sad', 'sad', 'sad', 'calm', 'happy', 'happy', 'happy', 'happy', 'calm', 'sad', 'sad', 'happy', 'happy', 'sad', 'sad', 'happy', 'calm', 'calm', 'calm', 'happy', 'sad', 'sad', 'sad', 'sad', 'sad', 'sad', 'calm', 'calm', 'sad', 'sad', 'happy', 'happy', 'calm', 'anger', 'anger', 'anger', 'calm', 'anger', 'anger', 'calm', 'calm', 'anger', 'sad', 'happy', 'anger', 'happy', 'happy', 'anger', 'anger', 'happy', 'calm', 'anger', 'anger', 'calm', 'anger', 'happy', 'calm', 'anger', 'happy', 'anger', 'happy', 'happy', 'calm', 'anger', 'happy', 'calm', 'calm', 'anger', 'happy', 'happy', 'anger', 'anger', 'anger', 'anger', 'anger', 'anger', 'calm', 'happy', 'anger', 'calm', 'anger', 'anger', 'happy', 'happy', 'happy', 'anger', 'happy', 'happy', 'calm', 'anger', 'calm', 'anger', 'happy', 'calm', 'calm', 'happy', 'happy', 'calm', 'anger', 'anger', 'anger', 'happy', 'anger', 'anger', 'calm', 'sad', 'happy', 'anger', 'happy', 'happy', 'anger', 'calm', 'calm', 'anger', 'happy', 'anger', 'happy', 'anger', 'happy', 'calm', 'sad', 'calm', 'happy', 'happy', 'anger', 'happy', 'happy', 'sad', 'calm', 'calm', 'calm', 'calm', 'calm', 'calm', 'happy', 'happy', 'anger', 'happy', 'happy', 'happy', 'happy', 'happy', 'happy', 'calm', 'calm', 'happy', 'happy', 'happy', 'sad', 'calm', 'happy', 'calm', 'happy', 'sad', 'sad', 'sad', 'sad', 'happy', 'happy', 'happy', 'happy', 'calm', 'happy', 'calm', 'happy', 'happy', 'happy', 'happy', 'happy', 'sad', 'calm', 'happy', 'calm', 'calm', 'happy', 'happy', 'happy', 'calm', 'calm', 'happy', 'anger', 'anger', 'sad', 'calm', 'happy', 'happy', 'calm', 'happy', 'calm', 'calm', 'anger', 'happy', 'happy', 'calm', 'calm', 'calm', 'calm', 'sad', 'calm', 'calm', 'happy', 'happy', 'happy', 'anger', 'happy', 'calm', 'calm', 'calm', 'sad', 'happy', 'sad', 'anger', 'sad', 'sad', 'sad', 'sad', 'sad', 'sad', 'happy', 'calm', 'calm', 'anger', 'sad', 'happy', 'happy', 'calm', 'happy', 'calm', 'sad', 'calm', 'anger', 'calm', 'anger', 'sad', 'happy', 'happy', 'calm', 'calm', 'calm', 'happy', 'sad', 'calm', 'happy', 'sad', 'sad', 'calm', 'sad', 'sad', 'happy', 'happy', 'happy', 'anger', 'happy', 'happy', 'happy', 'happy', 'happy', 'anger', 'happy', 'happy', 'sad', 'happy', 'happy', 'sad', 'happy', 'happy', 'calm', 'sad', 'happy', 'happy', 'calm', 'calm', 'calm', 'calm', 'happy', 'calm', 'calm', 'calm', 'calm', 'happy', 'sad', 'sad', 'sad', 'anger', 'sad', 'sad', 'sad', 'calm', 'sad', 'happy', 'sad', 'calm', 'calm', 'calm', 'happy', 'calm', 'happy', 'calm', 'calm', 'calm', 'happy', 'sad', 'sad', 'happy', 'happy', 'happy', 'calm', 'calm', 'happy', 'happy', 'happy', 'calm', 'happy', 'happy', 'happy', 'calm', 'calm', 'happy', 'happy', 'happy', 'happy', 'calm', 'happy', 'sad', 'happy', 'calm', 'happy', 'happy', 'happy', 'happy', 'happy', 'happy', 'happy', 'happy', 'happy', 'happy', 'happy', 'sad', 'sad', 'happy', 'happy', 'calm', 'calm', 'happy', 'happy', 'happy', 'happy', 'calm', 'happy', 'anger', 'anger', 'anger', 'calm', 'happy', 'happy', 'anger', 'happy', 'happy', 'anger', 'happy', 'happy', 'happy', 'happy', 'happy', 'happy', 'happy', 'happy', 'happy', 'happy', 'happy', 'calm', 'sad', 'calm', 'sad', 'sad', 'sad', 'sad', 'happy', 'happy', 'happy', 'happy', 'happy', 'happy', 'happy', 'happy', 'sad', 'sad', 'anger', 'happy', 'sad', 'happy', 'sad', 'happy', 'happy', 'happy', 'anger', 'sad', 'calm', 'happy', 'calm', 'happy', 'happy', 'happy', 'anger', 'anger', 'calm', 'happy', 'calm', 'happy', 'happy', 'happy', 'happy', 'anger', 'anger', 'calm', 'happy', 'happy', 'happy', 'calm', 'happy', 'happy', 'calm', 'anger', 'anger', 'anger', 'anger', 'calm', 'calm', 'anger', 'anger', 'anger', 'anger', 'calm', 'happy', 'happy', 'happy', 'happy', 'happy', 'anger', 'happy', 'anger', 'happy', 'anger']\n"
     ]
    }
   ],
   "source": [
    "print(new_data)"
   ]
  },
  {
   "cell_type": "code",
   "execution_count": 39,
   "metadata": {},
   "outputs": [
    {
     "name": "stdout",
     "output_type": "stream",
     "text": [
      "[[0.19899999999999998 0.743 0.359 ... 'Redbone' 'Childish Gambino' 'calm']\n",
      " [0.0344 0.838 0.41200000000000003 ... 'Xanny Family' 'Future' 'anger']\n",
      " [0.604 0.494 0.33799999999999997 ... 'Master Of None' 'Beach House'\n",
      "  'sad']\n",
      " ...\n",
      " [0.00857 0.637 0.935 ... 'Habit - Dack Janiels & Wenzday Remix'\n",
      "  'Rain Man' 'anger']\n",
      " [0.00164 0.557 0.992 ... 'First Contact' 'Twin Moons' 'happy']\n",
      " [0.00281 0.446 0.915 ... 'I Wanna Get Better' 'Bleachers' 'anger']]\n"
     ]
    }
   ],
   "source": [
    "test_dataset['mood'] = new_data\n",
    "print(test_dataset.values)"
   ]
  },
  {
   "cell_type": "code",
   "execution_count": 40,
   "metadata": {},
   "outputs": [],
   "source": [
    "test_dataset.to_csv('cleaned master data with mood.csv')"
   ]
  },
  {
   "cell_type": "code",
   "execution_count": null,
   "metadata": {},
   "outputs": [],
   "source": []
  }
 ],
 "metadata": {
  "kernelspec": {
   "display_name": "Python 3",
   "language": "python",
   "name": "python3"
  },
  "language_info": {
   "codemirror_mode": {
    "name": "ipython",
    "version": 3
   },
   "file_extension": ".py",
   "mimetype": "text/x-python",
   "name": "python",
   "nbconvert_exporter": "python",
   "pygments_lexer": "ipython3",
   "version": "3.6.7"
  }
 },
 "nbformat": 4,
 "nbformat_minor": 2
}
