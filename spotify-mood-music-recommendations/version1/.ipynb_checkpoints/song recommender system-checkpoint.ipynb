{
 "cells": [
  {
   "cell_type": "code",
   "execution_count": 1,
   "metadata": {},
   "outputs": [
    {
     "name": "stdout",
     "output_type": "stream",
     "text": [
      "                                        acousticness danceability energy  \\\n",
      "0                                    <!DOCTYPE html>          NaN    NaN   \n",
      "1                                   <html lang=\"en\">          NaN    NaN   \n",
      "2                                             <head>          NaN    NaN   \n",
      "3                             <meta charset=\"utf-8\">          NaN    NaN   \n",
      "4    <link rel=\"dns-prefetch\" href=\"https://githu...          NaN    NaN   \n",
      "\n",
      "  instrumentalness  key liveness loudness mode  speechiness  tempo  \\\n",
      "0              NaN  NaN      NaN      NaN  NaN          NaN    NaN   \n",
      "1              NaN  NaN      NaN      NaN  NaN          NaN    NaN   \n",
      "2              NaN  NaN      NaN      NaN  NaN          NaN    NaN   \n",
      "3              NaN  NaN      NaN      NaN  NaN          NaN    NaN   \n",
      "4              NaN  NaN      NaN      NaN  NaN          NaN    NaN   \n",
      "\n",
      "   time_signature  valence  song_title  artist  \n",
      "0             NaN      NaN         NaN     NaN  \n",
      "1             NaN      NaN         NaN     NaN  \n",
      "2             NaN      NaN         NaN     NaN  \n",
      "3             NaN      NaN         NaN     NaN  \n",
      "4             NaN      NaN         NaN     NaN  \n",
      "Index(['acousticness', 'danceability', 'energy', 'instrumentalness', 'key',\n",
      "       'liveness', 'loudness', 'mode', 'speechiness', 'tempo',\n",
      "       'time_signature', 'valence', 'song_title', 'artist'],\n",
      "      dtype='object')\n"
     ]
    }
   ],
   "source": [
    "import pandas as pd\n",
    "import numpy as np\n",
    "from sklearn.feature_extraction.text import CountVectorizer\n",
    "from sklearn.metrics.pairwise import cosine_similarity\n",
    "\n",
    "url =(\"https://raw.githubusercontent.com/FLIU253/machine-learning/master/spotify-mood-music-recommendations/version1/adjusted%20original%20data.csv?token=AGLVLQB52YJQAAE6KUEOJIC56FG2A\")\n",
    "names = [\"acousticness\", \"danceability\", \"energy\", \"instrumentalness\", \"key\", \"liveness\", \"loudness\", \"mode\", \"speechiness\", \"tempo\", \"time_signature\", \"valence\", \"song_title\", \"artist\"]\n",
    "\n",
    "dataset = pd.read_csv(url, names =names)\n",
    "\n",
    "print(dataset.head())\n",
    "print(dataset.columns)"
   ]
  },
  {
   "cell_type": "code",
   "execution_count": 2,
   "metadata": {},
   "outputs": [
    {
     "name": "stdout",
     "output_type": "stream",
     "text": [
      "       speechiness  tempo  time_signature  valence  song_title  artist\n",
      "count          0.0    0.0             0.0      0.0         0.0     0.0\n",
      "mean           NaN    NaN             NaN      NaN         NaN     NaN\n",
      "std            NaN    NaN             NaN      NaN         NaN     NaN\n",
      "min            NaN    NaN             NaN      NaN         NaN     NaN\n",
      "25%            NaN    NaN             NaN      NaN         NaN     NaN\n",
      "50%            NaN    NaN             NaN      NaN         NaN     NaN\n",
      "75%            NaN    NaN             NaN      NaN         NaN     NaN\n",
      "max            NaN    NaN             NaN      NaN         NaN     NaN\n"
     ]
    }
   ],
   "source": [
    "print(dataset.describe())"
   ]
  },
  {
   "cell_type": "code",
   "execution_count": 54,
   "metadata": {},
   "outputs": [
    {
     "name": "stdout",
     "output_type": "stream",
     "text": [
      "               acousticness        danceability energy instrumentalness   key  \\\n",
      "count                  2017                2017   2017             2017  2017   \n",
      "unique                 1394                 632    719             1107    12   \n",
      "top     0.11900000000000001  0.6829999999999999  0.857              0.0     1   \n",
      "freq                      8                  12     10              693   257   \n",
      "\n",
      "                   liveness loudness  mode speechiness               tempo  \\\n",
      "count                  2017     2017  2017        2017                2017   \n",
      "unique                  793     1808     2         792                1919   \n",
      "top     0.10099999999999999   -5.379     1       0.102  123.96600000000001   \n",
      "freq                     22        4  1235          11                   3   \n",
      "\n",
      "       time_signature              valence song_title artist combined_features  \n",
      "count            2017                 2017       2017   2017              2017  \n",
      "unique              4                  853       1956   1343              1760  \n",
      "top                 4  0.37200000000000005       Jack  Drake             0.851  \n",
      "freq             1891                    9          3     16                 6  \n"
     ]
    }
   ],
   "source": [
    "dataset = dataset.astype(str)\n",
    "print(dataset.describe())"
   ]
  },
  {
   "cell_type": "code",
   "execution_count": 56,
   "metadata": {},
   "outputs": [
    {
     "name": "stdout",
     "output_type": "stream",
     "text": [
      "Combined Features:  0                    0.0102 0.833 0.434 0.0219\n",
      "1      0.19899999999999998 0.743 0.359 0.00611\n",
      "2    0.0344 0.838 0.41200000000000003 0.000234\n",
      "3         0.604 0.494 0.33799999999999997 0.51\n",
      "4          0.18 0.6779999999999999 0.561 0.512\n",
      "Name: combined_features, dtype: object\n"
     ]
    }
   ],
   "source": [
    "def combined_features(row):\n",
    "    try:\n",
    "        return (row[\"acousticness\"] + \" \" + row[\"danceability\"] + \" \" + row[\"energy\"] + \" \" + row[\"instrumentalness\"])\n",
    "    except:\n",
    "        print (\"Error:\" ,row)\n",
    "\n",
    "dataset[\"combined_features\"] = dataset.apply(combined_features, axis=1)\n",
    "\n",
    "print(\"Combined Features: \", dataset[\"combined_features\"].head())"
   ]
  },
  {
   "cell_type": "code",
   "execution_count": 57,
   "metadata": {},
   "outputs": [],
   "source": [
    "#create count matric from this new combined column\n",
    "cv = CountVectorizer()\n",
    "count_matrix = cv.fit_transform(dataset[\"combined_features\"])\n",
    "cosine_sim = cosine_similarity(count_matrix)"
   ]
  },
  {
   "cell_type": "code",
   "execution_count": null,
   "metadata": {},
   "outputs": [],
   "source": []
  }
 ],
 "metadata": {
  "kernelspec": {
   "display_name": "Python 3",
   "language": "python",
   "name": "python3"
  },
  "language_info": {
   "codemirror_mode": {
    "name": "ipython",
    "version": 3
   },
   "file_extension": ".py",
   "mimetype": "text/x-python",
   "name": "python",
   "nbconvert_exporter": "python",
   "pygments_lexer": "ipython3",
   "version": "3.7.6"
  }
 },
 "nbformat": 4,
 "nbformat_minor": 2
}
