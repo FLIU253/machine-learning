{
 "cells": [
  {
   "cell_type": "code",
   "execution_count": 2,
   "metadata": {},
   "outputs": [
    {
     "ename": "HTTPError",
     "evalue": "HTTP Error 404: Not Found",
     "output_type": "error",
     "traceback": [
      "\u001b[1;31m---------------------------------------------------------------------------\u001b[0m",
      "\u001b[1;31mHTTPError\u001b[0m                                 Traceback (most recent call last)",
      "\u001b[1;32m<ipython-input-2-15462c4796fd>\u001b[0m in \u001b[0;36m<module>\u001b[1;34m\u001b[0m\n\u001b[0;32m     19\u001b[0m \u001b[0murl\u001b[0m \u001b[1;33m=\u001b[0m \u001b[1;34m\"https://raw.githubusercontent.com/FLIU253/machine-learning/master/spotify-mood-music-recommendations/cleaned%20data.csv?token=AGLVLQC66IKHJ2K5J624G4S557ZBQ\"\u001b[0m\u001b[1;33m\u001b[0m\u001b[1;33m\u001b[0m\u001b[0m\n\u001b[0;32m     20\u001b[0m \u001b[0mnames\u001b[0m \u001b[1;33m=\u001b[0m \u001b[1;33m[\u001b[0m\u001b[1;34m\"acounsticness\"\u001b[0m\u001b[1;33m,\u001b[0m \u001b[1;34m\"danceability\"\u001b[0m\u001b[1;33m,\u001b[0m \u001b[1;34m\"energy\"\u001b[0m\u001b[1;33m,\u001b[0m \u001b[1;34m\"instrumentalness\"\u001b[0m\u001b[1;33m,\u001b[0m \u001b[1;34m\"key\"\u001b[0m\u001b[1;33m,\u001b[0m \u001b[1;34m\"liveness\"\u001b[0m\u001b[1;33m,\u001b[0m \u001b[1;34m\"loudness\"\u001b[0m\u001b[1;33m,\u001b[0m \u001b[1;34m\"mode\"\u001b[0m\u001b[1;33m,\u001b[0m \u001b[1;34m\"speechiness\"\u001b[0m\u001b[1;33m,\u001b[0m \u001b[1;34m\"tempo\"\u001b[0m\u001b[1;33m,\u001b[0m \u001b[1;34m\"time_signature\"\u001b[0m\u001b[1;33m,\u001b[0m \u001b[1;34m\"valence\"\u001b[0m\u001b[1;33m,\u001b[0m \u001b[1;34m\"song_title\"\u001b[0m\u001b[1;33m,\u001b[0m \u001b[1;34m\"artist\"\u001b[0m\u001b[1;33m,\u001b[0m \u001b[1;34m\"emotion\"\u001b[0m\u001b[1;33m]\u001b[0m\u001b[1;33m\u001b[0m\u001b[1;33m\u001b[0m\u001b[0m\n\u001b[1;32m---> 21\u001b[1;33m \u001b[0mdataset\u001b[0m \u001b[1;33m=\u001b[0m \u001b[0mread_csv\u001b[0m\u001b[1;33m(\u001b[0m\u001b[0murl\u001b[0m\u001b[1;33m,\u001b[0m \u001b[0mnames\u001b[0m\u001b[1;33m=\u001b[0m\u001b[0mnames\u001b[0m\u001b[1;33m)\u001b[0m\u001b[1;33m\u001b[0m\u001b[1;33m\u001b[0m\u001b[0m\n\u001b[0m",
      "\u001b[1;32m~\\Documents\\projects\\ml-stuff\\Heart disease project\\env\\lib\\site-packages\\pandas\\io\\parsers.py\u001b[0m in \u001b[0;36mparser_f\u001b[1;34m(filepath_or_buffer, sep, delimiter, header, names, index_col, usecols, squeeze, prefix, mangle_dupe_cols, dtype, engine, converters, true_values, false_values, skipinitialspace, skiprows, skipfooter, nrows, na_values, keep_default_na, na_filter, verbose, skip_blank_lines, parse_dates, infer_datetime_format, keep_date_col, date_parser, dayfirst, cache_dates, iterator, chunksize, compression, thousands, decimal, lineterminator, quotechar, quoting, doublequote, escapechar, comment, encoding, dialect, error_bad_lines, warn_bad_lines, delim_whitespace, low_memory, memory_map, float_precision)\u001b[0m\n\u001b[0;32m    674\u001b[0m         )\n\u001b[0;32m    675\u001b[0m \u001b[1;33m\u001b[0m\u001b[0m\n\u001b[1;32m--> 676\u001b[1;33m         \u001b[1;32mreturn\u001b[0m \u001b[0m_read\u001b[0m\u001b[1;33m(\u001b[0m\u001b[0mfilepath_or_buffer\u001b[0m\u001b[1;33m,\u001b[0m \u001b[0mkwds\u001b[0m\u001b[1;33m)\u001b[0m\u001b[1;33m\u001b[0m\u001b[1;33m\u001b[0m\u001b[0m\n\u001b[0m\u001b[0;32m    677\u001b[0m \u001b[1;33m\u001b[0m\u001b[0m\n\u001b[0;32m    678\u001b[0m     \u001b[0mparser_f\u001b[0m\u001b[1;33m.\u001b[0m\u001b[0m__name__\u001b[0m \u001b[1;33m=\u001b[0m \u001b[0mname\u001b[0m\u001b[1;33m\u001b[0m\u001b[1;33m\u001b[0m\u001b[0m\n",
      "\u001b[1;32m~\\Documents\\projects\\ml-stuff\\Heart disease project\\env\\lib\\site-packages\\pandas\\io\\parsers.py\u001b[0m in \u001b[0;36m_read\u001b[1;34m(filepath_or_buffer, kwds)\u001b[0m\n\u001b[0;32m    429\u001b[0m     \u001b[1;31m# See https://github.com/python/mypy/issues/1297\u001b[0m\u001b[1;33m\u001b[0m\u001b[1;33m\u001b[0m\u001b[1;33m\u001b[0m\u001b[0m\n\u001b[0;32m    430\u001b[0m     fp_or_buf, _, compression, should_close = get_filepath_or_buffer(\n\u001b[1;32m--> 431\u001b[1;33m         \u001b[0mfilepath_or_buffer\u001b[0m\u001b[1;33m,\u001b[0m \u001b[0mencoding\u001b[0m\u001b[1;33m,\u001b[0m \u001b[0mcompression\u001b[0m\u001b[1;33m\u001b[0m\u001b[1;33m\u001b[0m\u001b[0m\n\u001b[0m\u001b[0;32m    432\u001b[0m     )\n\u001b[0;32m    433\u001b[0m     \u001b[0mkwds\u001b[0m\u001b[1;33m[\u001b[0m\u001b[1;34m\"compression\"\u001b[0m\u001b[1;33m]\u001b[0m \u001b[1;33m=\u001b[0m \u001b[0mcompression\u001b[0m\u001b[1;33m\u001b[0m\u001b[1;33m\u001b[0m\u001b[0m\n",
      "\u001b[1;32m~\\Documents\\projects\\ml-stuff\\Heart disease project\\env\\lib\\site-packages\\pandas\\io\\common.py\u001b[0m in \u001b[0;36mget_filepath_or_buffer\u001b[1;34m(filepath_or_buffer, encoding, compression, mode)\u001b[0m\n\u001b[0;32m    170\u001b[0m \u001b[1;33m\u001b[0m\u001b[0m\n\u001b[0;32m    171\u001b[0m     \u001b[1;32mif\u001b[0m \u001b[0misinstance\u001b[0m\u001b[1;33m(\u001b[0m\u001b[0mfilepath_or_buffer\u001b[0m\u001b[1;33m,\u001b[0m \u001b[0mstr\u001b[0m\u001b[1;33m)\u001b[0m \u001b[1;32mand\u001b[0m \u001b[0mis_url\u001b[0m\u001b[1;33m(\u001b[0m\u001b[0mfilepath_or_buffer\u001b[0m\u001b[1;33m)\u001b[0m\u001b[1;33m:\u001b[0m\u001b[1;33m\u001b[0m\u001b[1;33m\u001b[0m\u001b[0m\n\u001b[1;32m--> 172\u001b[1;33m         \u001b[0mreq\u001b[0m \u001b[1;33m=\u001b[0m \u001b[0murlopen\u001b[0m\u001b[1;33m(\u001b[0m\u001b[0mfilepath_or_buffer\u001b[0m\u001b[1;33m)\u001b[0m\u001b[1;33m\u001b[0m\u001b[1;33m\u001b[0m\u001b[0m\n\u001b[0m\u001b[0;32m    173\u001b[0m         \u001b[0mcontent_encoding\u001b[0m \u001b[1;33m=\u001b[0m \u001b[0mreq\u001b[0m\u001b[1;33m.\u001b[0m\u001b[0mheaders\u001b[0m\u001b[1;33m.\u001b[0m\u001b[0mget\u001b[0m\u001b[1;33m(\u001b[0m\u001b[1;34m\"Content-Encoding\"\u001b[0m\u001b[1;33m,\u001b[0m \u001b[1;32mNone\u001b[0m\u001b[1;33m)\u001b[0m\u001b[1;33m\u001b[0m\u001b[1;33m\u001b[0m\u001b[0m\n\u001b[0;32m    174\u001b[0m         \u001b[1;32mif\u001b[0m \u001b[0mcontent_encoding\u001b[0m \u001b[1;33m==\u001b[0m \u001b[1;34m\"gzip\"\u001b[0m\u001b[1;33m:\u001b[0m\u001b[1;33m\u001b[0m\u001b[1;33m\u001b[0m\u001b[0m\n",
      "\u001b[1;32m~\\Documents\\projects\\ml-stuff\\Heart disease project\\env\\lib\\site-packages\\pandas\\io\\common.py\u001b[0m in \u001b[0;36murlopen\u001b[1;34m(*args, **kwargs)\u001b[0m\n\u001b[0;32m    139\u001b[0m     \u001b[1;32mimport\u001b[0m \u001b[0murllib\u001b[0m\u001b[1;33m.\u001b[0m\u001b[0mrequest\u001b[0m\u001b[1;33m\u001b[0m\u001b[1;33m\u001b[0m\u001b[0m\n\u001b[0;32m    140\u001b[0m \u001b[1;33m\u001b[0m\u001b[0m\n\u001b[1;32m--> 141\u001b[1;33m     \u001b[1;32mreturn\u001b[0m \u001b[0murllib\u001b[0m\u001b[1;33m.\u001b[0m\u001b[0mrequest\u001b[0m\u001b[1;33m.\u001b[0m\u001b[0murlopen\u001b[0m\u001b[1;33m(\u001b[0m\u001b[1;33m*\u001b[0m\u001b[0margs\u001b[0m\u001b[1;33m,\u001b[0m \u001b[1;33m**\u001b[0m\u001b[0mkwargs\u001b[0m\u001b[1;33m)\u001b[0m\u001b[1;33m\u001b[0m\u001b[1;33m\u001b[0m\u001b[0m\n\u001b[0m\u001b[0;32m    142\u001b[0m \u001b[1;33m\u001b[0m\u001b[0m\n\u001b[0;32m    143\u001b[0m \u001b[1;33m\u001b[0m\u001b[0m\n",
      "\u001b[1;32m~\\Documents\\projects\\ml-stuff\\Heart disease project\\env\\lib\\urllib\\request.py\u001b[0m in \u001b[0;36murlopen\u001b[1;34m(url, data, timeout, cafile, capath, cadefault, context)\u001b[0m\n\u001b[0;32m    220\u001b[0m     \u001b[1;32melse\u001b[0m\u001b[1;33m:\u001b[0m\u001b[1;33m\u001b[0m\u001b[1;33m\u001b[0m\u001b[0m\n\u001b[0;32m    221\u001b[0m         \u001b[0mopener\u001b[0m \u001b[1;33m=\u001b[0m \u001b[0m_opener\u001b[0m\u001b[1;33m\u001b[0m\u001b[1;33m\u001b[0m\u001b[0m\n\u001b[1;32m--> 222\u001b[1;33m     \u001b[1;32mreturn\u001b[0m \u001b[0mopener\u001b[0m\u001b[1;33m.\u001b[0m\u001b[0mopen\u001b[0m\u001b[1;33m(\u001b[0m\u001b[0murl\u001b[0m\u001b[1;33m,\u001b[0m \u001b[0mdata\u001b[0m\u001b[1;33m,\u001b[0m \u001b[0mtimeout\u001b[0m\u001b[1;33m)\u001b[0m\u001b[1;33m\u001b[0m\u001b[1;33m\u001b[0m\u001b[0m\n\u001b[0m\u001b[0;32m    223\u001b[0m \u001b[1;33m\u001b[0m\u001b[0m\n\u001b[0;32m    224\u001b[0m \u001b[1;32mdef\u001b[0m \u001b[0minstall_opener\u001b[0m\u001b[1;33m(\u001b[0m\u001b[0mopener\u001b[0m\u001b[1;33m)\u001b[0m\u001b[1;33m:\u001b[0m\u001b[1;33m\u001b[0m\u001b[1;33m\u001b[0m\u001b[0m\n",
      "\u001b[1;32m~\\Documents\\projects\\ml-stuff\\Heart disease project\\env\\lib\\urllib\\request.py\u001b[0m in \u001b[0;36mopen\u001b[1;34m(self, fullurl, data, timeout)\u001b[0m\n\u001b[0;32m    529\u001b[0m         \u001b[1;32mfor\u001b[0m \u001b[0mprocessor\u001b[0m \u001b[1;32min\u001b[0m \u001b[0mself\u001b[0m\u001b[1;33m.\u001b[0m\u001b[0mprocess_response\u001b[0m\u001b[1;33m.\u001b[0m\u001b[0mget\u001b[0m\u001b[1;33m(\u001b[0m\u001b[0mprotocol\u001b[0m\u001b[1;33m,\u001b[0m \u001b[1;33m[\u001b[0m\u001b[1;33m]\u001b[0m\u001b[1;33m)\u001b[0m\u001b[1;33m:\u001b[0m\u001b[1;33m\u001b[0m\u001b[1;33m\u001b[0m\u001b[0m\n\u001b[0;32m    530\u001b[0m             \u001b[0mmeth\u001b[0m \u001b[1;33m=\u001b[0m \u001b[0mgetattr\u001b[0m\u001b[1;33m(\u001b[0m\u001b[0mprocessor\u001b[0m\u001b[1;33m,\u001b[0m \u001b[0mmeth_name\u001b[0m\u001b[1;33m)\u001b[0m\u001b[1;33m\u001b[0m\u001b[1;33m\u001b[0m\u001b[0m\n\u001b[1;32m--> 531\u001b[1;33m             \u001b[0mresponse\u001b[0m \u001b[1;33m=\u001b[0m \u001b[0mmeth\u001b[0m\u001b[1;33m(\u001b[0m\u001b[0mreq\u001b[0m\u001b[1;33m,\u001b[0m \u001b[0mresponse\u001b[0m\u001b[1;33m)\u001b[0m\u001b[1;33m\u001b[0m\u001b[1;33m\u001b[0m\u001b[0m\n\u001b[0m\u001b[0;32m    532\u001b[0m \u001b[1;33m\u001b[0m\u001b[0m\n\u001b[0;32m    533\u001b[0m         \u001b[1;32mreturn\u001b[0m \u001b[0mresponse\u001b[0m\u001b[1;33m\u001b[0m\u001b[1;33m\u001b[0m\u001b[0m\n",
      "\u001b[1;32m~\\Documents\\projects\\ml-stuff\\Heart disease project\\env\\lib\\urllib\\request.py\u001b[0m in \u001b[0;36mhttp_response\u001b[1;34m(self, request, response)\u001b[0m\n\u001b[0;32m    639\u001b[0m         \u001b[1;32mif\u001b[0m \u001b[1;32mnot\u001b[0m \u001b[1;33m(\u001b[0m\u001b[1;36m200\u001b[0m \u001b[1;33m<=\u001b[0m \u001b[0mcode\u001b[0m \u001b[1;33m<\u001b[0m \u001b[1;36m300\u001b[0m\u001b[1;33m)\u001b[0m\u001b[1;33m:\u001b[0m\u001b[1;33m\u001b[0m\u001b[1;33m\u001b[0m\u001b[0m\n\u001b[0;32m    640\u001b[0m             response = self.parent.error(\n\u001b[1;32m--> 641\u001b[1;33m                 'http', request, response, code, msg, hdrs)\n\u001b[0m\u001b[0;32m    642\u001b[0m \u001b[1;33m\u001b[0m\u001b[0m\n\u001b[0;32m    643\u001b[0m         \u001b[1;32mreturn\u001b[0m \u001b[0mresponse\u001b[0m\u001b[1;33m\u001b[0m\u001b[1;33m\u001b[0m\u001b[0m\n",
      "\u001b[1;32m~\\Documents\\projects\\ml-stuff\\Heart disease project\\env\\lib\\urllib\\request.py\u001b[0m in \u001b[0;36merror\u001b[1;34m(self, proto, *args)\u001b[0m\n\u001b[0;32m    567\u001b[0m         \u001b[1;32mif\u001b[0m \u001b[0mhttp_err\u001b[0m\u001b[1;33m:\u001b[0m\u001b[1;33m\u001b[0m\u001b[1;33m\u001b[0m\u001b[0m\n\u001b[0;32m    568\u001b[0m             \u001b[0margs\u001b[0m \u001b[1;33m=\u001b[0m \u001b[1;33m(\u001b[0m\u001b[0mdict\u001b[0m\u001b[1;33m,\u001b[0m \u001b[1;34m'default'\u001b[0m\u001b[1;33m,\u001b[0m \u001b[1;34m'http_error_default'\u001b[0m\u001b[1;33m)\u001b[0m \u001b[1;33m+\u001b[0m \u001b[0morig_args\u001b[0m\u001b[1;33m\u001b[0m\u001b[1;33m\u001b[0m\u001b[0m\n\u001b[1;32m--> 569\u001b[1;33m             \u001b[1;32mreturn\u001b[0m \u001b[0mself\u001b[0m\u001b[1;33m.\u001b[0m\u001b[0m_call_chain\u001b[0m\u001b[1;33m(\u001b[0m\u001b[1;33m*\u001b[0m\u001b[0margs\u001b[0m\u001b[1;33m)\u001b[0m\u001b[1;33m\u001b[0m\u001b[1;33m\u001b[0m\u001b[0m\n\u001b[0m\u001b[0;32m    570\u001b[0m \u001b[1;33m\u001b[0m\u001b[0m\n\u001b[0;32m    571\u001b[0m \u001b[1;31m# XXX probably also want an abstract factory that knows when it makes\u001b[0m\u001b[1;33m\u001b[0m\u001b[1;33m\u001b[0m\u001b[1;33m\u001b[0m\u001b[0m\n",
      "\u001b[1;32m~\\Documents\\projects\\ml-stuff\\Heart disease project\\env\\lib\\urllib\\request.py\u001b[0m in \u001b[0;36m_call_chain\u001b[1;34m(self, chain, kind, meth_name, *args)\u001b[0m\n\u001b[0;32m    501\u001b[0m         \u001b[1;32mfor\u001b[0m \u001b[0mhandler\u001b[0m \u001b[1;32min\u001b[0m \u001b[0mhandlers\u001b[0m\u001b[1;33m:\u001b[0m\u001b[1;33m\u001b[0m\u001b[1;33m\u001b[0m\u001b[0m\n\u001b[0;32m    502\u001b[0m             \u001b[0mfunc\u001b[0m \u001b[1;33m=\u001b[0m \u001b[0mgetattr\u001b[0m\u001b[1;33m(\u001b[0m\u001b[0mhandler\u001b[0m\u001b[1;33m,\u001b[0m \u001b[0mmeth_name\u001b[0m\u001b[1;33m)\u001b[0m\u001b[1;33m\u001b[0m\u001b[1;33m\u001b[0m\u001b[0m\n\u001b[1;32m--> 503\u001b[1;33m             \u001b[0mresult\u001b[0m \u001b[1;33m=\u001b[0m \u001b[0mfunc\u001b[0m\u001b[1;33m(\u001b[0m\u001b[1;33m*\u001b[0m\u001b[0margs\u001b[0m\u001b[1;33m)\u001b[0m\u001b[1;33m\u001b[0m\u001b[1;33m\u001b[0m\u001b[0m\n\u001b[0m\u001b[0;32m    504\u001b[0m             \u001b[1;32mif\u001b[0m \u001b[0mresult\u001b[0m \u001b[1;32mis\u001b[0m \u001b[1;32mnot\u001b[0m \u001b[1;32mNone\u001b[0m\u001b[1;33m:\u001b[0m\u001b[1;33m\u001b[0m\u001b[1;33m\u001b[0m\u001b[0m\n\u001b[0;32m    505\u001b[0m                 \u001b[1;32mreturn\u001b[0m \u001b[0mresult\u001b[0m\u001b[1;33m\u001b[0m\u001b[1;33m\u001b[0m\u001b[0m\n",
      "\u001b[1;32m~\\Documents\\projects\\ml-stuff\\Heart disease project\\env\\lib\\urllib\\request.py\u001b[0m in \u001b[0;36mhttp_error_default\u001b[1;34m(self, req, fp, code, msg, hdrs)\u001b[0m\n\u001b[0;32m    647\u001b[0m \u001b[1;32mclass\u001b[0m \u001b[0mHTTPDefaultErrorHandler\u001b[0m\u001b[1;33m(\u001b[0m\u001b[0mBaseHandler\u001b[0m\u001b[1;33m)\u001b[0m\u001b[1;33m:\u001b[0m\u001b[1;33m\u001b[0m\u001b[1;33m\u001b[0m\u001b[0m\n\u001b[0;32m    648\u001b[0m     \u001b[1;32mdef\u001b[0m \u001b[0mhttp_error_default\u001b[0m\u001b[1;33m(\u001b[0m\u001b[0mself\u001b[0m\u001b[1;33m,\u001b[0m \u001b[0mreq\u001b[0m\u001b[1;33m,\u001b[0m \u001b[0mfp\u001b[0m\u001b[1;33m,\u001b[0m \u001b[0mcode\u001b[0m\u001b[1;33m,\u001b[0m \u001b[0mmsg\u001b[0m\u001b[1;33m,\u001b[0m \u001b[0mhdrs\u001b[0m\u001b[1;33m)\u001b[0m\u001b[1;33m:\u001b[0m\u001b[1;33m\u001b[0m\u001b[1;33m\u001b[0m\u001b[0m\n\u001b[1;32m--> 649\u001b[1;33m         \u001b[1;32mraise\u001b[0m \u001b[0mHTTPError\u001b[0m\u001b[1;33m(\u001b[0m\u001b[0mreq\u001b[0m\u001b[1;33m.\u001b[0m\u001b[0mfull_url\u001b[0m\u001b[1;33m,\u001b[0m \u001b[0mcode\u001b[0m\u001b[1;33m,\u001b[0m \u001b[0mmsg\u001b[0m\u001b[1;33m,\u001b[0m \u001b[0mhdrs\u001b[0m\u001b[1;33m,\u001b[0m \u001b[0mfp\u001b[0m\u001b[1;33m)\u001b[0m\u001b[1;33m\u001b[0m\u001b[1;33m\u001b[0m\u001b[0m\n\u001b[0m\u001b[0;32m    650\u001b[0m \u001b[1;33m\u001b[0m\u001b[0m\n\u001b[0;32m    651\u001b[0m \u001b[1;32mclass\u001b[0m \u001b[0mHTTPRedirectHandler\u001b[0m\u001b[1;33m(\u001b[0m\u001b[0mBaseHandler\u001b[0m\u001b[1;33m)\u001b[0m\u001b[1;33m:\u001b[0m\u001b[1;33m\u001b[0m\u001b[1;33m\u001b[0m\u001b[0m\n",
      "\u001b[1;31mHTTPError\u001b[0m: HTTP Error 404: Not Found"
     ]
    }
   ],
   "source": [
    "# Load libraries\n",
    "from pandas import read_csv\n",
    "from pandas.plotting import scatter_matrix\n",
    "from matplotlib import pyplot\n",
    "from sklearn.model_selection import train_test_split\n",
    "from sklearn.model_selection import cross_val_score\n",
    "from sklearn.model_selection import StratifiedKFold\n",
    "from sklearn.metrics import classification_report\n",
    "from sklearn.metrics import confusion_matrix\n",
    "from sklearn.metrics import accuracy_score\n",
    "from sklearn.linear_model import LogisticRegression\n",
    "from sklearn.tree import DecisionTreeClassifier\n",
    "from sklearn.neighbors import KNeighborsClassifier\n",
    "from sklearn.discriminant_analysis import LinearDiscriminantAnalysis\n",
    "from sklearn.naive_bayes import GaussianNB\n",
    "from sklearn.svm import SVC\n",
    "\n",
    "#load training datasets\n",
    "url = \"https://raw.githubusercontent.com/FLIU253/machine-learning/master/spotify-mood-music-recommendations/cleaned%20data.csv?token=AGLVLQC66IKHJ2K5J624G4S557ZBQ\"\n",
    "names = [\"acounsticness\", \"danceability\", \"energy\", \"instrumentalness\", \"key\", \"liveness\", \"loudness\", \"mode\", \"speechiness\", \"tempo\", \"time_signature\", \"valence\", \"song_title\", \"artist\", \"emotion\"]\n",
    "dataset = read_csv(url, names=names)"
   ]
  },
  {
   "cell_type": "code",
   "execution_count": 15,
   "metadata": {},
   "outputs": [
    {
     "name": "stdout",
     "output_type": "stream",
     "text": [
      "(53, 15)\n"
     ]
    }
   ],
   "source": [
    "#shape\n",
    "print(dataset.shape)"
   ]
  },
  {
   "cell_type": "code",
   "execution_count": 16,
   "metadata": {},
   "outputs": [
    {
     "name": "stdout",
     "output_type": "stream",
     "text": [
      "   acounsticness  danceability  energy  instrumentalness  key  liveness  \\\n",
      "0        0.00898         0.612  0.7990             0.000   10     0.172   \n",
      "1        0.91800         0.331  0.0861             0.902    5     0.106   \n",
      "2        0.01750         0.564  0.7370             0.000    9     0.054   \n",
      "3        0.04810         0.603  0.9440             0.000   11     0.342   \n",
      "4        0.04580         0.704  0.9280             0.000    8     0.345   \n",
      "\n",
      "   loudness  mode  speechiness    tempo  time_signature  valence  \\\n",
      "0    -4.603     1       0.0275  125.976               4    0.675   \n",
      "1   -21.226     1       0.0354  107.436               4    0.152   \n",
      "2    -4.079     1       0.0414  104.764               4    0.231   \n",
      "3    -3.626     0       0.3470  130.035               4    0.398   \n",
      "4    -3.422     1       0.0443  113.981               4    0.960   \n",
      "\n",
      "          song_title             artist emotion  \n",
      "0           What Ifs         Kane Brown     sad  \n",
      "1     I Have Dreamed  Christian McBride     sad  \n",
      "2             Middle           DJ Snake    calm  \n",
      "3  I've Seen Footage        Death Grips   anger  \n",
      "4              Lifer            MercyMe   happy  \n"
     ]
    }
   ],
   "source": [
    "print(dataset.head(5))"
   ]
  },
  {
   "cell_type": "code",
   "execution_count": 4,
   "metadata": {},
   "outputs": [
    {
     "name": "stdout",
     "output_type": "stream",
     "text": [
      "       acounsticness  danceability     energy  instrumentalness        key  \\\n",
      "count      53.000000     53.000000  53.000000         53.000000  53.000000   \n",
      "mean        0.169121      0.607377   0.645191          0.115772   4.377358   \n",
      "std         0.253221      0.169792   0.208007          0.256212   3.819114   \n",
      "min         0.000008      0.191000   0.086100          0.000000   0.000000   \n",
      "25%         0.013000      0.514000   0.513000          0.000000   1.000000   \n",
      "50%         0.049500      0.591000   0.664000          0.000003   3.000000   \n",
      "75%         0.199000      0.735000   0.799000          0.023300   8.000000   \n",
      "max         0.918000      0.890000   0.981000          0.921000  11.000000   \n",
      "\n",
      "        liveness   loudness       mode  speechiness       tempo  \\\n",
      "count  53.000000  53.000000  53.000000    53.000000   53.000000   \n",
      "mean    0.203013  -6.850075   0.773585     0.100855  125.324792   \n",
      "std     0.141664   3.344116   0.422516     0.097579   28.183829   \n",
      "min     0.051400 -21.226000   0.000000     0.026400   64.992000   \n",
      "25%     0.108000  -7.859000   1.000000     0.035400  109.982000   \n",
      "50%     0.157000  -6.175000   1.000000     0.054800  120.761000   \n",
      "75%     0.268000  -4.898000   1.000000     0.140000  143.064000   \n",
      "max     0.727000  -2.635000   1.000000     0.431000  203.822000   \n",
      "\n",
      "       time_signature    valence  \n",
      "count       53.000000  53.000000  \n",
      "mean         3.962264   0.459964  \n",
      "std          0.337540   0.237015  \n",
      "min          3.000000   0.074500  \n",
      "25%          4.000000   0.262000  \n",
      "50%          4.000000   0.470000  \n",
      "75%          4.000000   0.644000  \n",
      "max          5.000000   0.960000  \n",
      "emotion\n",
      "anger    12\n",
      "calm     11\n",
      "happy    19\n",
      "sad      11\n",
      "dtype: int64\n"
     ]
    }
   ],
   "source": [
    "print(dataset.describe())\n",
    "print(dataset.groupby('emotion').size())"
   ]
  },
  {
   "cell_type": "code",
   "execution_count": 20,
   "metadata": {},
   "outputs": [
    {
     "data": {
      "image/png": "[encoded data removed]",
      "text/plain": [
       "<Figure size 432x288 with 1 Axes>"
      ]
     },
     "metadata": {
      "needs_background": "light"
     },
     "output_type": "display_data"
    }
   ],
   "source": [
    "#visualization\n",
    "dataset.plot()\n",
    "plt.show()"
   ]
  },
  {
   "cell_type": "code",
   "execution_count": 31,
   "metadata": {},
   "outputs": [
    {
     "name": "stdout",
     "output_type": "stream",
     "text": [
      "[[0.00898 0.612 0.799 0.0 10 0.172 -4.603 1 0.0275 125.976 4 0.675]\n",
      " [0.9179999999999999 0.331 0.0861 0.902 5 0.106 -21.226 1 0.0354 107.436\n",
      "  4 0.152]\n",
      " [0.0175 0.564 0.737 0.0 9 0.054000000000000006 -4.079 1 0.0414 104.764 4\n",
      "  0.231]\n",
      " [0.0481 0.603 0.9440000000000001 0.0 11 0.342 -3.6260000000000003 0\n",
      "  0.34700000000000003 130.035 4 0.39799999999999996]\n",
      " [0.0458 0.7040000000000001 0.9279999999999999 0.0 8 0.345\n",
      "  -3.4219999999999997 1 0.0443 113.98100000000001 4 0.96]\n",
      " [0.0446 0.853 0.6759999999999999 3.37e-05 6 0.0514 -5.5329999999999995 0\n",
      "  0.0715 122.65 4 0.5579999999999999]\n",
      " [0.9 0.5820000000000001 0.401 0.5379999999999999 2 0.157 -8.731 1\n",
      "  0.027999999999999997 112.35700000000001 4 0.414]\n",
      " [0.456 0.514 0.45299999999999996 0.000181 6 0.17800000000000002 -7.062 1\n",
      "  0.0267 75.548 4 0.532]\n",
      " [0.000259 0.644 0.758 0.0708 5 0.0726 -7.859 1 0.0458 108.99 4 0.752]\n",
      " [1.56e-05 0.493 0.9640000000000001 0.00733 1 0.727 -3.0789999999999997 1\n",
      "  0.0954 110.005 4 0.17]\n",
      " [0.0102 0.833 0.434 0.0219 2 0.165 -8.795 1 0.431 150.062 4\n",
      "  0.28600000000000003]\n",
      " [0.0724 0.8270000000000001 0.6459999999999999 0.0 1 0.247 -4.727 0\n",
      "  0.0766 92.057 4 0.51]\n",
      " [0.0119 0.473 0.794 0.00218 9 0.418 -5.151 1 0.0462 139.313 4 0.293]\n",
      " [0.914 0.425 0.136 0.9209999999999999 11 0.127 -17.382 1 0.0293\n",
      "  168.52700000000002 3 0.22699999999999998]\n",
      " [0.0016600000000000002 0.5870000000000001 0.841 0.53 11\n",
      "  0.11699999999999999 -5.079 0 0.0476 142.95 4 0.696]\n",
      " [0.243 0.6829999999999999 0.691 0.0 8 0.14 -5.535 1 0.0432 179.91 4\n",
      "  0.746]\n",
      " [0.0305 0.8740000000000001 0.49200000000000005 0.0 2 0.11699999999999999\n",
      "  -4.898 1 0.32799999999999996 64.992 4 0.644]\n",
      " [0.157 0.7290000000000001 0.818 0.285 2 0.195 -9.992 1 0.0732 125.811 4\n",
      "  0.909]\n",
      " [0.251 0.569 0.74 2.68e-06 0 0.134 -6.235 1 0.28300000000000003\n",
      "  180.55900000000003 4 0.7090000000000001]\n",
      " [0.025 0.8540000000000001 0.46 0.0 10 0.128 -9.71 0 0.14 97.512 4\n",
      "  0.49200000000000005]\n",
      " [0.0246 0.586 0.8059999999999999 0.000167 1 0.353 -9.542 1 0.0548\n",
      "  110.325 4 0.207]\n",
      " [0.0365 0.8290000000000001 0.637 0.0233 5 0.267 -9.481 0 0.0882\n",
      "  120.76100000000001 4 0.688]\n",
      " [0.000103 0.498 0.5529999999999999 0.528 5 0.273 -6.193 1 0.0332 111.015\n",
      "  4 0.228]\n",
      " [0.0151 0.502 0.732 0.00011899999999999999 1 0.0897 -5.45 1 0.168\n",
      "  122.025 4 0.529]\n",
      " [0.28600000000000003 0.706 0.6890000000000001 0.0 6 0.12300000000000001\n",
      "  -5.5329999999999995 1 0.17 144.127 4 0.42]\n",
      " [0.8540000000000001 0.354 0.228 0.8 0 0.113 -10.304 1 0.0296 82.758 3\n",
      "  0.0745]\n",
      " [0.0159 0.591 0.5770000000000001 0.0 2 0.162 -6.107 1 0.0331 156.107 4\n",
      "  0.52]\n",
      " [0.0197 0.593 0.8140000000000001 0.0 9 0.18 -4.802 1 0.166\n",
      "  146.91899999999998 4 0.47]\n",
      " [0.162 0.529 0.95 0.00199 9 0.616 -3.446 1 0.055999999999999994 119.964\n",
      "  4 0.456]\n",
      " [0.0757 0.5720000000000001 0.853 0.0 1 0.0798 -3.2030000000000003 1\n",
      "  0.217 171.297 4 0.0995]\n",
      " [0.00477 0.585 0.614 0.000155 10 0.0762 -5.593999999999999 0\n",
      "  0.037000000000000005 114.059 4 0.273]\n",
      " [0.0242 0.735 0.759 0.185 1 0.0966 -6.914 0 0.0449 109.98200000000001 4\n",
      "  0.763]\n",
      " [0.498 0.331 0.42700000000000005 0.0 3 0.10800000000000001 -7.431 1\n",
      "  0.0302 157.938 3 0.129]\n",
      " [0.429 0.616 0.401 0.0 0 0.161 -7.318 1 0.0344 143.75 4 0.354]\n",
      " [7.94e-06 0.23600000000000002 0.981 0.8740000000000001 6 0.325 -2.635 1\n",
      "  0.299 160.114 4 0.129]\n",
      " [0.14400000000000002 0.736 0.616 2.29e-06 4 0.268 -8.016 1 0.0345\n",
      "  101.96600000000001 4 0.89]\n",
      " [0.013000000000000001 0.853 0.56 0.0 1 0.0944 -4.961 1 0.0406 134.066 4\n",
      "  0.853]\n",
      " [0.0555 0.735 0.7979999999999999 0.0627 0 0.161 -6.175 1 0.127\n",
      "  113.99700000000001 4 0.469]\n",
      " [0.0551 0.547 0.643 0.0 1 0.267 -8.904 1 0.22699999999999998 143.064 4\n",
      "  0.187]\n",
      " [0.537 0.191 0.664 1.23e-06 1 0.353 -4.125 1 0.0456 203.822 3 0.545]\n",
      " [0.00107 0.507 0.9179999999999999 8.7e-06 2 0.311 -4.684 1 0.0701 92.006\n",
      "  4 0.275]\n",
      " [0.0102 0.5329999999999999 0.91 0.0 8 0.10800000000000001\n",
      "  -3.0869999999999997 1 0.0566 113.054 4 0.48100000000000004]\n",
      " [0.0495 0.547 0.513 0.0 0 0.18100000000000002 -7.4510000000000005 1\n",
      "  0.0309 110.54 4 0.262]\n",
      " [0.46799999999999997 0.578 0.375 0.0 0 0.156 -12.950999999999999 1\n",
      "  0.0272 89.605 4 0.561]\n",
      " [0.214 0.638 0.634 0.0 6 0.0866 -6.474 1 0.0468 92.09700000000001 4\n",
      "  0.445]\n",
      " [0.000239 0.32899999999999996 0.8140000000000001 0.0944 7 0.0936 -6.005\n",
      "  1 0.0674 120.462 4 0.40299999999999997]\n",
      " [0.19 0.7759999999999999 0.507 0.0 9 0.12 -5.752000000000001 0 0.0405\n",
      "  98.051 4 0.51]\n",
      " [0.198 0.89 0.52 0.273 2 0.0638 -6.9270000000000005 0 0.187 114.959 4\n",
      "  0.7170000000000001]\n",
      " [0.19899999999999998 0.743 0.359 0.00611 1 0.13699999999999998 -10.401 1\n",
      "  0.0794 160.083 4 0.588]\n",
      " [0.0565 0.853 0.547 0.0 1 0.341 -7.535 1 0.19399999999999998 142.065 4\n",
      "  0.677]\n",
      " [0.00243 0.621 0.6829999999999999 0.00856 11 0.525 -5.619 0 0.242\n",
      "  124.28299999999999 5 0.0891]\n",
      " [0.0861 0.35600000000000004 0.5670000000000001 0.0 0 0.13699999999999998\n",
      "  -7.011 0 0.0798 135.553 5 0.11599999999999999]\n",
      " [0.0823 0.741 0.748 0.0 0 0.34 -6.2989999999999995 1 0.0264 127.965 4\n",
      "  0.616]]\n",
      "['sad' 'sad' 'calm' 'anger' 'happy' 'happy' 'happy' 'sad' 'calm' 'anger'\n",
      " 'happy' 'calm' 'happy' 'sad' 'happy' 'happy' 'anger' 'happy' 'calm'\n",
      " 'anger' 'anger' 'anger' 'calm' 'happy' 'happy' 'sad' 'sad' 'happy'\n",
      " 'anger' 'anger' 'happy' 'happy' 'sad' 'happy' 'anger' 'calm' 'happy'\n",
      " 'happy' 'anger' 'sad' 'sad' 'happy' 'sad' 'calm' 'sad' 'happy' 'calm'\n",
      " 'happy' 'calm' 'anger' 'anger' 'calm' 'calm']\n"
     ]
    }
   ],
   "source": [
    "array = dataset.values\n",
    "x = array[:, 0:12]\n",
    "y= array[:,14]\n",
    "print(x)\n",
    "print(y)\n",
    "x_train, x_validation, y_train, y_validation = train_test_split(x, y, test_size=0.1, random_state=1)"
   ]
  },
  {
   "cell_type": "code",
   "execution_count": 32,
   "metadata": {},
   "outputs": [
    {
     "name": "stdout",
     "output_type": "stream",
     "text": [
      "accuracy percentage standard deviation\n",
      "LR: 0.362908 (0.074948)\n",
      "LDA: 0.404866 (0.034341)\n",
      "KNN: 0.296620 (0.069176)\n",
      "CART: 0.446824 (0.129770)\n",
      "NB: 0.397873 (0.132297)\n",
      "SVM: 0.361305 (0.018280)\n"
     ]
    }
   ],
   "source": [
    "models = []\n",
    "models.append(('LR', LogisticRegression(solver='liblinear', multi_class='ovr')))\n",
    "models.append(('LDA', LinearDiscriminantAnalysis()))\n",
    "models.append(('KNN', KNeighborsClassifier()))\n",
    "models.append(('CART', DecisionTreeClassifier()))\n",
    "models.append(('NB', GaussianNB()))\n",
    "models.append(('SVM', SVC(gamma='auto')))\n",
    "# evaluate each model in turn\n",
    "results = []\n",
    "names = []\n",
    "print(\"accuracy percentage\", \"standard deviation\" )\n",
    "for name, model in models:\n",
    "    kfold = StratifiedKFold(n_splits=4, random_state=1)\n",
    "    cv_results = cross_val_score(model, x_train, y_train, cv=kfold, scoring='accuracy')\n",
    "    results.append(cv_results)\n",
    "    names.append(name)\n",
    "    print('%s: %f (%f)' % (name, cv_results.mean(), cv_results.std()))"
   ]
  },
  {
   "cell_type": "code",
   "execution_count": 39,
   "metadata": {},
   "outputs": [],
   "source": [
    "model =DecisionTreeClassifier()\n",
    "model.fit(x_train, y_train)\n",
    "predictions = model.predict(x_validation)"
   ]
  },
  {
   "cell_type": "code",
   "execution_count": 40,
   "metadata": {},
   "outputs": [
    {
     "name": "stdout",
     "output_type": "stream",
     "text": [
      "0.16666666666666666\n",
      "[[0 2 1]\n",
      " [1 0 1]\n",
      " [0 0 1]]\n",
      "              precision    recall  f1-score   support\n",
      "\n",
      "        calm       0.00      0.00      0.00         3\n",
      "       happy       0.00      0.00      0.00         2\n",
      "         sad       0.33      1.00      0.50         1\n",
      "\n",
      "   micro avg       0.17      0.17      0.17         6\n",
      "   macro avg       0.11      0.33      0.17         6\n",
      "weighted avg       0.06      0.17      0.08         6\n",
      "\n"
     ]
    }
   ],
   "source": [
    "print(accuracy_score(y_validation, predictions))\n",
    "print(confusion_matrix(y_validation, predictions))\n",
    "print(classification_report(y_validation, predictions))"
   ]
  },
  {
   "cell_type": "code",
   "execution_count": 44,
   "metadata": {},
   "outputs": [
    {
     "name": "stdout",
     "output_type": "stream",
     "text": [
      "['calm']\n"
     ]
    }
   ],
   "source": [
    "model_to_predict = [[0.246, 0.676, 0.528, 0, 7, 0.0803, -8.699, 1, 0.0366, 130.073, 4, 0.301]]\n",
    "predictions = model.predict(model_to_predict)\n",
    "print(predictions)"
   ]
  },
  {
   "cell_type": "code",
   "execution_count": null,
   "metadata": {},
   "outputs": [],
   "source": []
  }
 ],
 "metadata": {
  "kernelspec": {
   "display_name": "Python 3",
   "language": "python",
   "name": "python3"
  },
  "language_info": {
   "codemirror_mode": {
    "name": "ipython",
    "version": 3
   },
   "file_extension": ".py",
   "mimetype": "text/x-python",
   "name": "python",
   "nbconvert_exporter": "python",
   "pygments_lexer": "ipython3",
   "version": "3.7.6"
  }
 },
 "nbformat": 4,
 "nbformat_minor": 2
}
